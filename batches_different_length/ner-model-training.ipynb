{
 "cells": [
  {
   "cell_type": "code",
   "execution_count": 6,
   "metadata": {},
   "outputs": [
    {
     "name": "stdout",
     "output_type": "stream",
     "text": [
      "The autoreload extension is already loaded. To reload it, use:\n",
      "  %reload_ext autoreload\n"
     ]
    }
   ],
   "source": [
    "%load_ext autoreload\n",
    "%autoreload 2"
   ]
  },
  {
   "cell_type": "code",
   "execution_count": 11,
   "metadata": {},
   "outputs": [
    {
     "name": "stdout",
     "output_type": "stream",
     "text": [
      "/home/ec2-user/SageMaker/code-paco/Named-Entity-Recognition-with-Bidirectional-LSTM-CNNs/batches_different_length\n"
     ]
    }
   ],
   "source": [
    "%cd batches_different_length/"
   ]
  },
  {
   "cell_type": "code",
   "execution_count": 13,
   "metadata": {
    "collapsed": false,
    "jupyter": {
     "outputs_hidden": false
    },
    "pycharm": {
     "name": "#%%\n"
    }
   },
   "outputs": [],
   "source": [
    "import numpy as np\n",
    "import matplotlib.pyplot as plt\n",
    "from keras.initializers import RandomUniform\n",
    "from keras.layers import (\n",
    "    LSTM,\n",
    "    Bidirectional,\n",
    "    Conv1D,\n",
    "    Dense,\n",
    "    Dropout,\n",
    "    Embedding,\n",
    "    Flatten,\n",
    "    Input,\n",
    "    MaxPooling1D,\n",
    "    TimeDistributed,\n",
    "    concatenate,\n",
    ")\n",
    "from keras.models import Model\n",
    "from keras.preprocessing.sequence import pad_sequences\n",
    "from keras.utils import Progbar\n",
    "\n",
    "from prepro import add_char_information, create_batches, create_matrices, iterate_minibatches, padding, readfile, tag_dataset\n",
    "from validation import compute_f1"
   ]
  },
  {
   "cell_type": "markdown",
   "metadata": {
    "pycharm": {
     "name": "#%% md\n"
    }
   },
   "source": [
    "# Prepare Data"
   ]
  },
  {
   "cell_type": "markdown",
   "metadata": {
    "pycharm": {
     "name": "#%% md\n"
    }
   },
   "source": [
    "### Download data"
   ]
  },
  {
   "cell_type": "code",
   "execution_count": 14,
   "metadata": {
    "collapsed": false,
    "jupyter": {
     "outputs_hidden": false
    },
    "pycharm": {
     "name": "#%%\n"
    }
   },
   "outputs": [],
   "source": [
    "# %cd embeddings\n",
    "# !wget http://nlp.stanford.edu/data/glove.6B.zip\n",
    "# !unzip glove.6B.zip\n",
    "# %cd .."
   ]
  },
  {
   "cell_type": "markdown",
   "metadata": {
    "pycharm": {
     "name": "#%% md\n"
    }
   },
   "source": [
    "### Load data"
   ]
  },
  {
   "cell_type": "code",
   "execution_count": 16,
   "metadata": {
    "collapsed": false,
    "jupyter": {
     "outputs_hidden": false
    },
    "pycharm": {
     "name": "#%%\n"
    }
   },
   "outputs": [
    {
     "name": "stdout",
     "output_type": "stream",
     "text": [
      "14041 3250 3453\n"
     ]
    }
   ],
   "source": [
    "train_sentences = readfile(\"../data/train.txt\")\n",
    "val_sentences = readfile(\"../data/valid.txt\")\n",
    "test_sentences = readfile(\"../data/test.txt\")\n",
    "print(len(train_sentences), len(val_sentences), len(test_sentences))"
   ]
  },
  {
   "cell_type": "code",
   "execution_count": 17,
   "metadata": {
    "collapsed": false,
    "jupyter": {
     "outputs_hidden": false
    },
    "pycharm": {
     "name": "#%%\n"
    }
   },
   "outputs": [
    {
     "data": {
      "text/plain": [
       "[['EU', 'B-ORG\\n'],\n",
       " ['rejects', 'O\\n'],\n",
       " ['German', 'B-MISC\\n'],\n",
       " ['call', 'O\\n'],\n",
       " ['to', 'O\\n'],\n",
       " ['boycott', 'O\\n'],\n",
       " ['British', 'B-MISC\\n'],\n",
       " ['lamb', 'O\\n'],\n",
       " ['.', 'O\\n']]"
      ]
     },
     "execution_count": 17,
     "metadata": {},
     "output_type": "execute_result"
    }
   ],
   "source": [
    "train_sentences[0]"
   ]
  },
  {
   "cell_type": "markdown",
   "metadata": {
    "pycharm": {
     "name": "#%% md\n"
    }
   },
   "source": [
    "### Add character information"
   ]
  },
  {
   "cell_type": "code",
   "execution_count": 18,
   "metadata": {
    "collapsed": false,
    "jupyter": {
     "outputs_hidden": false
    },
    "pycharm": {
     "name": "#%%\n"
    }
   },
   "outputs": [],
   "source": [
    "train_sentences = add_char_information(train_sentences)\n",
    "val_sentences = add_char_information(val_sentences)\n",
    "test_sentences = add_char_information(test_sentences)\n",
    "all_sentences = train_sentences + val_sentences + test_sentences"
   ]
  },
  {
   "cell_type": "code",
   "execution_count": 19,
   "metadata": {
    "collapsed": false,
    "jupyter": {
     "outputs_hidden": false
    },
    "pycharm": {
     "name": "#%%\n"
    }
   },
   "outputs": [
    {
     "data": {
      "text/plain": [
       "[['EU', ['E', 'U'], 'B-ORG\\n'],\n",
       " ['rejects', ['r', 'e', 'j', 'e', 'c', 't', 's'], 'O\\n'],\n",
       " ['German', ['G', 'e', 'r', 'm', 'a', 'n'], 'B-MISC\\n'],\n",
       " ['call', ['c', 'a', 'l', 'l'], 'O\\n'],\n",
       " ['to', ['t', 'o'], 'O\\n'],\n",
       " ['boycott', ['b', 'o', 'y', 'c', 'o', 't', 't'], 'O\\n'],\n",
       " ['British', ['B', 'r', 'i', 't', 'i', 's', 'h'], 'B-MISC\\n'],\n",
       " ['lamb', ['l', 'a', 'm', 'b'], 'O\\n'],\n",
       " ['.', ['.'], 'O\\n']]"
      ]
     },
     "execution_count": 19,
     "metadata": {},
     "output_type": "execute_result"
    }
   ],
   "source": [
    "train_sentences[0]"
   ]
  },
  {
   "cell_type": "markdown",
   "metadata": {
    "pycharm": {
     "name": "#%% md\n"
    }
   },
   "source": [
    "### Visualize"
   ]
  },
  {
   "cell_type": "markdown",
   "metadata": {
    "pycharm": {
     "name": "#%% md\n"
    }
   },
   "source": [
    "#### Sentence length"
   ]
  },
  {
   "cell_type": "code",
   "execution_count": 20,
   "metadata": {
    "collapsed": false,
    "jupyter": {
     "outputs_hidden": false
    },
    "pycharm": {
     "name": "#%%\n"
    }
   },
   "outputs": [
    {
     "data": {
      "image/png": "[encoded data removed]",
      "text/plain": [
       "<Figure size 1440x360 with 4 Axes>"
      ]
     },
     "metadata": {
      "needs_background": "light"
     },
     "output_type": "display_data"
    }
   ],
   "source": [
    "fig, axs = plt.subplots(1, 4, figsize=(20, 5))\n",
    "for ax, sentences_set in zip(axs, [all_sentences, train_sentences, val_sentences, test_sentences]):\n",
    "    sentences_lens = [len(sentence) for sentence in sentences_set]\n",
    "    ax.hist(sentences_lens, bins=100)\n",
    "    ax.set_ylabel(\"Num sentences\")\n",
    "    ax.set_xlabel(\"Sentence length (# words)\");"
   ]
  },
  {
   "cell_type": "markdown",
   "metadata": {
    "pycharm": {
     "name": "#%% md\n"
    }
   },
   "source": [
    "#### Word length"
   ]
  },
  {
   "cell_type": "code",
   "execution_count": 21,
   "metadata": {
    "collapsed": false,
    "jupyter": {
     "outputs_hidden": false
    },
    "pycharm": {
     "name": "#%%\n"
    }
   },
   "outputs": [
    {
     "data": {
      "image/png": "[encoded data removed]",
      "text/plain": [
       "<Figure size 1440x360 with 4 Axes>"
      ]
     },
     "metadata": {
      "needs_background": "light"
     },
     "output_type": "display_data"
    }
   ],
   "source": [
    "fig, axs = plt.subplots(1,4, figsize=(20, 5))\n",
    "for ax, sentences_set in zip(axs, [all_sentences, train_sentences, val_sentences, test_sentences]):\n",
    "    word_lens = [len(word[0]) for sentence in sentences_set for word in sentence]\n",
    "    ax.hist(word_lens, bins=100)\n",
    "    ax.set_ylabel(\"Num words\")\n",
    "    ax.set_xlabel(\"Words lengths (# characters)\");"
   ]
  },
  {
   "cell_type": "markdown",
   "metadata": {
    "pycharm": {
     "name": "#%% md\n"
    }
   },
   "source": [
    "### Prepare mappings and embeddings"
   ]
  },
  {
   "cell_type": "markdown",
   "metadata": {
    "pycharm": {
     "name": "#%% md\n"
    }
   },
   "source": [
    "#### Get classes and word corpus"
   ]
  },
  {
   "cell_type": "code",
   "execution_count": 25,
   "metadata": {
    "collapsed": false,
    "jupyter": {
     "outputs_hidden": false
    },
    "pycharm": {
     "name": "#%%\n"
    }
   },
   "outputs": [],
   "source": [
    "classes = set()\n",
    "words = {}\n",
    "\n",
    "for dataset in [train_sentences, val_sentences, test_sentences]:\n",
    "    for sentence in dataset:\n",
    "        for word, char, label in sentence:\n",
    "            classes.add(label)\n",
    "            words[word.lower()] = True"
   ]
  },
  {
   "cell_type": "code",
   "execution_count": 26,
   "metadata": {
    "collapsed": false,
    "jupyter": {
     "outputs_hidden": false
    },
    "pycharm": {
     "name": "#%%\n"
    }
   },
   "outputs": [
    {
     "name": "stdout",
     "output_type": "stream",
     "text": [
      "9 26869\n"
     ]
    }
   ],
   "source": [
    "print(len(classes), len(words))"
   ]
  },
  {
   "cell_type": "markdown",
   "metadata": {
    "pycharm": {
     "name": "#%% md\n"
    }
   },
   "source": [
    "#### Classes mapping"
   ]
  },
  {
   "cell_type": "code",
   "execution_count": 27,
   "metadata": {
    "collapsed": false,
    "jupyter": {
     "outputs_hidden": false
    },
    "pycharm": {
     "name": "#%%\n"
    }
   },
   "outputs": [
    {
     "name": "stdout",
     "output_type": "stream",
     "text": [
      "9\n",
      "{'I-ORG\\n': 0, 'B-ORG\\n': 1, 'O\\n': 2, 'B-MISC\\n': 3, 'B-LOC\\n': 4, 'I-MISC\\n': 5, 'I-LOC\\n': 6, 'I-PER\\n': 7, 'B-PER\\n': 8}\n"
     ]
    }
   ],
   "source": [
    "# Create a mapping for the classes\n",
    "class2idx = {}\n",
    "for label in classes:\n",
    "    class2idx[label] = len(class2idx)\n",
    "print(len(class2idx))\n",
    "print(class2idx)"
   ]
  },
  {
   "cell_type": "code",
   "execution_count": 28,
   "metadata": {
    "collapsed": false,
    "jupyter": {
     "outputs_hidden": false
    },
    "pycharm": {
     "name": "#%%\n"
    }
   },
   "outputs": [
    {
     "name": "stdout",
     "output_type": "stream",
     "text": [
      "{0: 'I-ORG\\n', 1: 'B-ORG\\n', 2: 'O\\n', 3: 'B-MISC\\n', 4: 'B-LOC\\n', 5: 'I-MISC\\n', 6: 'I-LOC\\n', 7: 'I-PER\\n', 8: 'B-PER\\n'}\n"
     ]
    }
   ],
   "source": [
    "# Create reverse mapping for classes and store it\n",
    "idx2class = {v: k for k, v in class2idx.items()}\n",
    "np.save(\"models/idx2Label.npy\", idx2class)\n",
    "print(idx2class)"
   ]
  },
  {
   "cell_type": "markdown",
   "metadata": {
    "pycharm": {
     "name": "#%% md\n"
    }
   },
   "source": [
    "#### Cases mapping and embedding"
   ]
  },
  {
   "cell_type": "code",
   "execution_count": 29,
   "metadata": {
    "collapsed": false,
    "jupyter": {
     "outputs_hidden": false
    },
    "pycharm": {
     "name": "#%%\n"
    }
   },
   "outputs": [
    {
     "name": "stdout",
     "output_type": "stream",
     "text": [
      "8 (8, 8)\n",
      "{'numeric': 0, 'allLower': 1, 'allUpper': 2, 'initialUpper': 3, 'other': 4, 'mainly_numeric': 5, 'contains_digit': 6, 'PADDING_TOKEN': 7}\n",
      "[[1. 0. 0. 0. 0. 0. 0. 0.]\n",
      " [0. 1. 0. 0. 0. 0. 0. 0.]\n",
      " [0. 0. 1. 0. 0. 0. 0. 0.]\n",
      " [0. 0. 0. 1. 0. 0. 0. 0.]\n",
      " [0. 0. 0. 0. 1. 0. 0. 0.]\n",
      " [0. 0. 0. 0. 0. 1. 0. 0.]\n",
      " [0. 0. 0. 0. 0. 0. 1. 0.]\n",
      " [0. 0. 0. 0. 0. 0. 0. 1.]]\n"
     ]
    }
   ],
   "source": [
    "# Create a look-up table for the cases\n",
    "case2idx = {\n",
    "    \"numeric\": 0,\n",
    "    \"allLower\": 1,\n",
    "    \"allUpper\": 2,\n",
    "    \"initialUpper\": 3,\n",
    "    \"other\": 4,\n",
    "    \"mainly_numeric\": 5,\n",
    "    \"contains_digit\": 6,\n",
    "    \"PADDING_TOKEN\": 7,\n",
    "}\n",
    "case_embeddings = np.identity(len(case2idx), dtype=\"float32\")\n",
    "print(len(case2idx), case_embeddings.shape)\n",
    "print(case2idx)\n",
    "print(case_embeddings)"
   ]
  },
  {
   "cell_type": "markdown",
   "metadata": {
    "pycharm": {
     "name": "#%% md\n"
    }
   },
   "source": [
    "#### Word mapping and embeddings"
   ]
  },
  {
   "cell_type": "code",
   "execution_count": 31,
   "metadata": {
    "collapsed": false,
    "jupyter": {
     "outputs_hidden": false
    },
    "pycharm": {
     "name": "#%%\n"
    }
   },
   "outputs": [
    {
     "name": "stdout",
     "output_type": "stream",
     "text": [
      "22949 (22949, 50)\n"
     ]
    }
   ],
   "source": [
    "# Get word embedding\n",
    "word2idx = {}\n",
    "word_embeddings = []\n",
    "\n",
    "vocabulary_embeddings = open(\"../embeddings/glove.6B.50d.txt\", encoding=\"utf-8\")\n",
    "\n",
    "for line in vocabulary_embeddings:\n",
    "    split = line.strip().split(\" \")\n",
    "    word = split[0]\n",
    "\n",
    "    if len(word2idx) == 0:  # Add padding+unknown\n",
    "        word2idx[\"PADDING_TOKEN\"] = len(word2idx)\n",
    "        vector = np.zeros(len(split) - 1)  # Zero vector vor 'PADDING' word\n",
    "        word_embeddings.append(vector)\n",
    "\n",
    "        word2idx[\"UNKNOWN_TOKEN\"] = len(word2idx)\n",
    "        vector = np.random.uniform(-0.25, 0.25, len(split) - 1)\n",
    "        word_embeddings.append(vector)\n",
    "\n",
    "    if split[0].lower() in words:\n",
    "        vector = np.array([float(num) for num in split[1:]])\n",
    "        word_embeddings.append(vector)\n",
    "        word2idx[split[0]] = len(word2idx)\n",
    "\n",
    "word_embeddings = np.array(word_embeddings)\n",
    "\n",
    "print(len(word2idx), word_embeddings.shape)"
   ]
  },
  {
   "cell_type": "code",
   "execution_count": 32,
   "metadata": {
    "collapsed": false,
    "jupyter": {
     "outputs_hidden": false
    },
    "pycharm": {
     "name": "#%%\n"
    }
   },
   "outputs": [],
   "source": [
    "# Store word embedding indices\n",
    "np.save(\"models/word2idx.npy\", word2idx)"
   ]
  },
  {
   "cell_type": "markdown",
   "metadata": {
    "pycharm": {
     "name": "#%% md\n"
    }
   },
   "source": [
    "#### Character mapping and embedding"
   ]
  },
  {
   "cell_type": "code",
   "execution_count": 33,
   "metadata": {
    "collapsed": false,
    "jupyter": {
     "outputs_hidden": false
    },
    "pycharm": {
     "name": "#%%\n"
    }
   },
   "outputs": [
    {
     "name": "stdout",
     "output_type": "stream",
     "text": [
      "95\n"
     ]
    }
   ],
   "source": [
    "# Character embedding\n",
    "char2idx = {\"PADDING\": 0, \"UNKNOWN\": 1}\n",
    "for c in \" 0123456789abcdefghijklmnopqrstuvwxyzABCDEFGHIJKLMNOPQRSTUVWXYZ.,-_()[]{}!?:;#'\\\"/\\\\%$`&=*+@^~|\":\n",
    "    char2idx[c] = len(char2idx)\n",
    "print(len(char2idx))"
   ]
  },
  {
   "cell_type": "markdown",
   "metadata": {
    "pycharm": {
     "name": "#%% md\n"
    }
   },
   "source": [
    "### Train, val test data splits"
   ]
  },
  {
   "cell_type": "code",
   "execution_count": 34,
   "metadata": {
    "collapsed": false,
    "jupyter": {
     "outputs_hidden": false
    },
    "pycharm": {
     "name": "#%%\n"
    }
   },
   "outputs": [
    {
     "name": "stdout",
     "output_type": "stream",
     "text": [
      "num train sentences: 14041\n",
      "num val sentences: 3250\n",
      "num test sentences: 3453\n"
     ]
    }
   ],
   "source": [
    "train_set = padding(create_matrices(train_sentences, word2idx, class2idx, case2idx, char2idx))\n",
    "val_set = padding(create_matrices(val_sentences, word2idx, class2idx, case2idx, char2idx))\n",
    "test_set = padding(create_matrices(test_sentences, word2idx, class2idx, case2idx, char2idx))\n",
    "print(f\"num train sentences: {len(train_set)}\")\n",
    "print(f\"num val sentences: {len(val_set)}\")\n",
    "print(f\"num test sentences: {len(test_set)}\")"
   ]
  },
  {
   "cell_type": "code",
   "execution_count": 35,
   "metadata": {
    "collapsed": false,
    "jupyter": {
     "outputs_hidden": false
    },
    "pycharm": {
     "name": "#%%\n"
    }
   },
   "outputs": [
    {
     "data": {
      "text/plain": [
       "[[641, 6732, 512, 578, 6, 4940, 295, 8353, 4],\n",
       " [2, 1, 3, 1, 1, 1, 3, 1, 4],\n",
       " array([[43, 59,  0,  0,  0,  0,  0,  0,  0,  0,  0,  0,  0,  0,  0,  0,\n",
       "          0,  0,  0,  0,  0,  0,  0,  0,  0,  0,  0,  0,  0,  0,  0,  0,\n",
       "          0,  0,  0,  0,  0,  0,  0,  0,  0,  0,  0,  0,  0,  0,  0,  0,\n",
       "          0,  0,  0,  0],\n",
       "        [30, 17, 22, 17, 15, 32, 31,  0,  0,  0,  0,  0,  0,  0,  0,  0,\n",
       "          0,  0,  0,  0,  0,  0,  0,  0,  0,  0,  0,  0,  0,  0,  0,  0,\n",
       "          0,  0,  0,  0,  0,  0,  0,  0,  0,  0,  0,  0,  0,  0,  0,  0,\n",
       "          0,  0,  0,  0],\n",
       "        [45, 17, 30, 25, 13, 26,  0,  0,  0,  0,  0,  0,  0,  0,  0,  0,\n",
       "          0,  0,  0,  0,  0,  0,  0,  0,  0,  0,  0,  0,  0,  0,  0,  0,\n",
       "          0,  0,  0,  0,  0,  0,  0,  0,  0,  0,  0,  0,  0,  0,  0,  0,\n",
       "          0,  0,  0,  0],\n",
       "        [15, 13, 24, 24,  0,  0,  0,  0,  0,  0,  0,  0,  0,  0,  0,  0,\n",
       "          0,  0,  0,  0,  0,  0,  0,  0,  0,  0,  0,  0,  0,  0,  0,  0,\n",
       "          0,  0,  0,  0,  0,  0,  0,  0,  0,  0,  0,  0,  0,  0,  0,  0,\n",
       "          0,  0,  0,  0],\n",
       "        [32, 27,  0,  0,  0,  0,  0,  0,  0,  0,  0,  0,  0,  0,  0,  0,\n",
       "          0,  0,  0,  0,  0,  0,  0,  0,  0,  0,  0,  0,  0,  0,  0,  0,\n",
       "          0,  0,  0,  0,  0,  0,  0,  0,  0,  0,  0,  0,  0,  0,  0,  0,\n",
       "          0,  0,  0,  0],\n",
       "        [14, 27, 37, 15, 27, 32, 32,  0,  0,  0,  0,  0,  0,  0,  0,  0,\n",
       "          0,  0,  0,  0,  0,  0,  0,  0,  0,  0,  0,  0,  0,  0,  0,  0,\n",
       "          0,  0,  0,  0,  0,  0,  0,  0,  0,  0,  0,  0,  0,  0,  0,  0,\n",
       "          0,  0,  0,  0],\n",
       "        [40, 30, 21, 32, 21, 31, 20,  0,  0,  0,  0,  0,  0,  0,  0,  0,\n",
       "          0,  0,  0,  0,  0,  0,  0,  0,  0,  0,  0,  0,  0,  0,  0,  0,\n",
       "          0,  0,  0,  0,  0,  0,  0,  0,  0,  0,  0,  0,  0,  0,  0,  0,\n",
       "          0,  0,  0,  0],\n",
       "        [24, 13, 25, 14,  0,  0,  0,  0,  0,  0,  0,  0,  0,  0,  0,  0,\n",
       "          0,  0,  0,  0,  0,  0,  0,  0,  0,  0,  0,  0,  0,  0,  0,  0,\n",
       "          0,  0,  0,  0,  0,  0,  0,  0,  0,  0,  0,  0,  0,  0,  0,  0,\n",
       "          0,  0,  0,  0],\n",
       "        [65,  0,  0,  0,  0,  0,  0,  0,  0,  0,  0,  0,  0,  0,  0,  0,\n",
       "          0,  0,  0,  0,  0,  0,  0,  0,  0,  0,  0,  0,  0,  0,  0,  0,\n",
       "          0,  0,  0,  0,  0,  0,  0,  0,  0,  0,  0,  0,  0,  0,  0,  0,\n",
       "          0,  0,  0,  0]], dtype=int32),\n",
       " [1, 2, 3, 2, 2, 2, 3, 2, 2]]"
      ]
     },
     "execution_count": 35,
     "metadata": {},
     "output_type": "execute_result"
    }
   ],
   "source": [
    "train_set[0] # [words_idxs, word_case_idxs, word_char_idx, word_class_idx]"
   ]
  },
  {
   "cell_type": "code",
   "execution_count": 36,
   "metadata": {
    "collapsed": false,
    "jupyter": {
     "outputs_hidden": false
    },
    "pycharm": {
     "name": "#%%\n"
    }
   },
   "outputs": [
    {
     "name": "stdout",
     "output_type": "stream",
     "text": [
      "Raw data of train sentence 10:\n",
      "[['Spanish', ['S', 'p', 'a', 'n', 'i', 's', 'h'], 'B-MISC\\n'], ['Farm', ['F', 'a', 'r', 'm'], 'O\\n'], ['Minister', ['M', 'i', 'n', 'i', 's', 't', 'e', 'r'], 'O\\n'], ['Loyola', ['L', 'o', 'y', 'o', 'l', 'a'], 'B-PER\\n'], ['de', ['d', 'e'], 'I-PER\\n'], ['Palacio', ['P', 'a', 'l', 'a', 'c', 'i', 'o'], 'I-PER\\n'], ['had', ['h', 'a', 'd'], 'O\\n'], ['earlier', ['e', 'a', 'r', 'l', 'i', 'e', 'r'], 'O\\n'], ['accused', ['a', 'c', 'c', 'u', 's', 'e', 'd'], 'O\\n'], ['Fischler', ['F', 'i', 's', 'c', 'h', 'l', 'e', 'r'], 'B-PER\\n'], ['at', ['a', 't'], 'O\\n'], ['an', ['a', 'n'], 'O\\n'], ['EU', ['E', 'U'], 'B-ORG\\n'], ['farm', ['f', 'a', 'r', 'm'], 'O\\n'], ['ministers', ['m', 'i', 'n', 'i', 's', 't', 'e', 'r', 's'], 'O\\n'], [\"'\", [\"'\"], 'O\\n'], ['meeting', ['m', 'e', 'e', 't', 'i', 'n', 'g'], 'O\\n'], ['of', ['o', 'f'], 'O\\n'], ['causing', ['c', 'a', 'u', 's', 'i', 'n', 'g'], 'O\\n'], ['unjustified', ['u', 'n', 'j', 'u', 's', 't', 'i', 'f', 'i', 'e', 'd'], 'O\\n'], ['alarm', ['a', 'l', 'a', 'r', 'm'], 'O\\n'], ['through', ['t', 'h', 'r', 'o', 'u', 'g', 'h'], 'O\\n'], ['\"', ['\"'], 'O\\n'], ['dangerous', ['d', 'a', 'n', 'g', 'e', 'r', 'o', 'u', 's'], 'O\\n'], ['generalisation', ['g', 'e', 'n', 'e', 'r', 'a', 'l', 'i', 's', 'a', 't', 'i', 'o', 'n'], 'O\\n'], ['.', ['.'], 'O\\n'], ['\"', ['\"'], 'O\\n']]\n",
      "Sentence has 27 words\n",
      "word embedding idxs: 27 [1131, 1962, 140, 12085, 340, 12784, 40, 348, 869, 15742, 24, 29, 641, 1962, 1385, 57, 284, 5, 2799, 12663, 6464, 130, 10, 2257, 20128, 4, 10]\n",
      "word case embedding idxs: 27 [3, 3, 3, 3, 1, 3, 1, 1, 1, 3, 1, 1, 2, 1, 1, 4, 1, 1, 1, 1, 1, 1, 4, 1, 1, 4, 4]\n",
      "word char embedding idxs: (27, 52)\n",
      "word class embedding idxs: 27 [3, 2, 2, 8, 7, 7, 2, 2, 2, 8, 2, 2, 1, 2, 2, 2, 2, 2, 2, 2, 2, 2, 2, 2, 2, 2, 2]\n"
     ]
    }
   ],
   "source": [
    "sentence_idx = 10\n",
    "print(f\"Raw data of train sentence {sentence_idx}:\")\n",
    "print(f\"{train_sentences[sentence_idx]}\")\n",
    "print(f\"Sentence has {len(train_sentences[sentence_idx])} words\")\n",
    "print(\"word embedding idxs:\", len(train_set[sentence_idx][0]), train_set[sentence_idx][0])\n",
    "print(\"word case embedding idxs:\", len(train_set[sentence_idx][1]), train_set[sentence_idx][1])\n",
    "print(\"word char embedding idxs:\", train_set[sentence_idx][2].shape)\n",
    "print(\"word class embedding idxs:\", len(train_set[sentence_idx][3]), train_set[sentence_idx][3])"
   ]
  },
  {
   "cell_type": "markdown",
   "metadata": {
    "pycharm": {
     "name": "#%% md\n"
    }
   },
   "source": [
    "### Create training batches per sentence length"
   ]
  },
  {
   "cell_type": "code",
   "execution_count": 37,
   "metadata": {
    "collapsed": false,
    "jupyter": {
     "outputs_hidden": false
    },
    "pycharm": {
     "name": "#%%\n"
    }
   },
   "outputs": [],
   "source": [
    "# Order sentences by length of sentence and return the index at which each length starts\n",
    "train_unique_lengths, train_batches, train_num_sentences_in_batch = create_batches(train_set)\n",
    "val_unique_lengths, val_batches, val_num_sentences_in_batch = create_batches(val_set)\n",
    "test_unique_lengths, test_batches, test_num_sentences_in_batch = create_batches(test_set)"
   ]
  },
  {
   "cell_type": "code",
   "execution_count": 38,
   "metadata": {
    "collapsed": false,
    "jupyter": {
     "outputs_hidden": false
    },
    "pycharm": {
     "name": "#%%\n"
    }
   },
   "outputs": [
    {
     "name": "stdout",
     "output_type": "stream",
     "text": [
      "{1, 2, 3, 4, 5, 6, 7, 8, 9, 10, 11, 12, 13, 14, 15, 16, 17, 18, 19, 20, 21, 22, 23, 24, 25, 26, 27, 28, 29, 30, 31, 32, 33, 34, 35, 36, 37, 38, 39, 40, 41, 42, 43, 44, 45, 46, 47, 48, 49, 50, 51, 52, 53, 54, 55, 56, 57, 58, 59, 60, 62, 67, 78, 113}\n",
      "14041\n",
      "[179, 1308, 1894, 2665, 3416, 4041, 4945, 6001, 6895, 7398, 7805, 8129, 8483, 8776, 9055, 9290, 9523, 9721, 9916, 10130, 10343, 10560, 10770, 10991, 11214, 11426, 11628, 11845, 12061, 12255, 12464, 12650, 12823, 12978, 13113, 13237, 13339, 13437, 13546, 13626, 13698, 13762, 13814, 13859, 13899, 13926, 13947, 13965, 13978, 13993, 14003, 14014, 14017, 14021, 14026, 14027, 14030, 14032, 14034, 14036, 14038, 14039, 14040, 14041]\n",
      "{1, 2, 3, 4, 5, 6, 7, 8, 9, 10, 11, 12, 13, 14, 15, 16, 17, 18, 19, 20, 21, 22, 23, 24, 25, 26, 27, 28, 29, 30, 31, 32, 33, 34, 35, 36, 37, 38, 39, 40, 41, 42, 43, 44, 45, 46, 47, 48, 49, 50, 51, 52, 53, 54, 55, 56, 59, 62, 75, 79, 83, 91, 93, 105, 109}\n",
      "3250\n",
      "[15, 280, 376, 549, 679, 811, 1113, 1337, 1467, 1590, 1694, 1777, 1834, 1896, 1937, 1990, 2036, 2092, 2148, 2215, 2286, 2343, 2389, 2438, 2486, 2531, 2586, 2640, 2699, 2757, 2801, 2849, 2887, 2931, 2966, 3013, 3053, 3074, 3098, 3119, 3139, 3157, 3175, 3191, 3202, 3211, 3213, 3215, 3221, 3223, 3226, 3231, 3233, 3234, 3237, 3241, 3242, 3243, 3244, 3245, 3246, 3247, 3248, 3249, 3250]\n",
      "{1, 2, 3, 4, 5, 6, 7, 8, 9, 10, 11, 12, 13, 14, 15, 16, 17, 18, 19, 20, 21, 22, 23, 24, 25, 26, 27, 28, 29, 30, 31, 32, 33, 34, 35, 36, 37, 38, 39, 40, 41, 42, 43, 44, 45, 46, 47, 48, 49, 50, 53, 54, 55, 56, 59, 60, 64, 66, 69, 71, 72, 77, 80, 124}\n",
      "3453\n",
      "[33, 310, 474, 686, 874, 1051, 1387, 1714, 1937, 2064, 2144, 2207, 2261, 2316, 2374, 2416, 2468, 2518, 2564, 2618, 2684, 2731, 2783, 2822, 2872, 2921, 2949, 2987, 3036, 3076, 3125, 3154, 3200, 3225, 3251, 3273, 3300, 3332, 3347, 3360, 3371, 3382, 3393, 3403, 3414, 3416, 3421, 3426, 3429, 3433, 3437, 3438, 3442, 3443, 3444, 3445, 3446, 3447, 3448, 3449, 3450, 3451, 3452, 3453]\n"
     ]
    }
   ],
   "source": [
    "print(train_unique_lengths)\n",
    "print(len(train_batches))\n",
    "print(train_num_sentences_in_batch)\n",
    "\n",
    "print(val_unique_lengths)\n",
    "print(len(val_batches))\n",
    "print(val_num_sentences_in_batch)\n",
    "\n",
    "print(test_unique_lengths)\n",
    "print(len(test_batches))\n",
    "print(test_num_sentences_in_batch)"
   ]
  },
  {
   "cell_type": "markdown",
   "metadata": {
    "pycharm": {
     "name": "#%% md\n"
    }
   },
   "source": [
    "### Define model"
   ]
  },
  {
   "cell_type": "code",
   "execution_count": 39,
   "metadata": {
    "collapsed": false,
    "jupyter": {
     "outputs_hidden": false
    },
    "pycharm": {
     "name": "#%%\n"
    }
   },
   "outputs": [
    {
     "name": "stdout",
     "output_type": "stream",
     "text": [
      "Model: \"model_1\"\n",
      "__________________________________________________________________________________________________\n",
      "Layer (type)                    Output Shape         Param #     Connected to                     \n",
      "==================================================================================================\n",
      "char_input (InputLayer)         (None, None, 52)     0                                            \n",
      "__________________________________________________________________________________________________\n",
      "char_embedding (TimeDistributed (None, None, 52, 30) 2850        char_input[0][0]                 \n",
      "__________________________________________________________________________________________________\n",
      "dropout_1 (Dropout)             (None, None, 52, 30) 0           char_embedding[0][0]             \n",
      "__________________________________________________________________________________________________\n",
      "time_distributed_1 (TimeDistrib (None, None, 52, 30) 2730        dropout_1[0][0]                  \n",
      "__________________________________________________________________________________________________\n",
      "time_distributed_2 (TimeDistrib (None, None, 1, 30)  0           time_distributed_1[0][0]         \n",
      "__________________________________________________________________________________________________\n",
      "words_input (InputLayer)        (None, None)         0                                            \n",
      "__________________________________________________________________________________________________\n",
      "casing_input (InputLayer)       (None, None)         0                                            \n",
      "__________________________________________________________________________________________________\n",
      "time_distributed_3 (TimeDistrib (None, None, 30)     0           time_distributed_2[0][0]         \n",
      "__________________________________________________________________________________________________\n",
      "embedding_1 (Embedding)         (None, None, 50)     1147450     words_input[0][0]                \n",
      "__________________________________________________________________________________________________\n",
      "embedding_2 (Embedding)         (None, None, 8)      64          casing_input[0][0]               \n",
      "__________________________________________________________________________________________________\n",
      "dropout_2 (Dropout)             (None, None, 30)     0           time_distributed_3[0][0]         \n",
      "__________________________________________________________________________________________________\n",
      "concatenate_1 (Concatenate)     (None, None, 88)     0           embedding_1[0][0]                \n",
      "                                                                 embedding_2[0][0]                \n",
      "                                                                 dropout_2[0][0]                  \n",
      "__________________________________________________________________________________________________\n",
      "bidirectional_1 (Bidirectional) (None, None, 400)    462400      concatenate_1[0][0]              \n",
      "__________________________________________________________________________________________________\n",
      "time_distributed_4 (TimeDistrib (None, None, 9)      3609        bidirectional_1[0][0]            \n",
      "==================================================================================================\n",
      "Total params: 1,619,103\n",
      "Trainable params: 471,589\n",
      "Non-trainable params: 1,147,514\n",
      "__________________________________________________________________________________________________\n"
     ]
    }
   ],
   "source": [
    "# Word features come from glove.6B embeddings\n",
    "words_input = Input(shape=(None,), dtype=\"int32\", name=\"words_input\") # None indicates a variables input (sentence length is variable)\n",
    "words = Embedding(\n",
    "    input_dim=word_embeddings.shape[0], output_dim=word_embeddings.shape[1], weights=[word_embeddings], trainable=False\n",
    ")(words_input)\n",
    "\n",
    "# Casing features\n",
    "casing_input = Input(shape=(None,), dtype=\"int32\", name=\"casing_input\") # None indicates a variables input (sentence length is variable)\n",
    "casing = Embedding(\n",
    "    output_dim=case_embeddings.shape[1], input_dim=case_embeddings.shape[0], weights=[case_embeddings], trainable=False\n",
    ")(casing_input)\n",
    "\n",
    "# Character features learned with a 1D CNN\n",
    "character_input = Input(\n",
    "    shape=(\n",
    "        None,\n",
    "        52,\n",
    "    ),\n",
    "    name=\"char_input\",\n",
    ")\n",
    "embed_char_out = TimeDistributed(\n",
    "    Embedding(len(char2idx), 30, embeddings_initializer=RandomUniform(minval=-0.5, maxval=0.5)), name=\"char_embedding\"\n",
    ")(character_input)\n",
    "dropout = Dropout(0.5)(embed_char_out)\n",
    "conv1d_out = TimeDistributed(Conv1D(kernel_size=3, filters=30, padding=\"same\", activation=\"tanh\", strides=1))(dropout)\n",
    "maxpool_out = TimeDistributed(MaxPooling1D(52))(conv1d_out)\n",
    "char = TimeDistributed(Flatten())(maxpool_out)\n",
    "char = Dropout(0.5)(char)\n",
    "\n",
    "# Concatenate features\n",
    "output = concatenate([words, casing, char])\n",
    "\n",
    "# Bidirectional LSTM\n",
    "output = Bidirectional(LSTM(200, return_sequences=True, dropout=0.50, recurrent_dropout=0.25))(output)\n",
    "\n",
    "# Same fully connected for each word in the sequence\n",
    "output = TimeDistributed(Dense(len(class2idx), activation=\"softmax\"))(output)\n",
    "\n",
    "# Define model input and output\n",
    "model = Model(inputs=[words_input, casing_input, character_input], outputs=[output])\n",
    "model.compile(loss=\"sparse_categorical_crossentropy\", optimizer=\"nadam\")\n",
    "model.summary()"
   ]
  },
  {
   "cell_type": "markdown",
   "metadata": {
    "pycharm": {
     "name": "#%% md\n"
    }
   },
   "source": [
    "### Training loop"
   ]
  },
  {
   "cell_type": "code",
   "execution_count": 40,
   "metadata": {
    "collapsed": false,
    "jupyter": {
     "outputs_hidden": false
    },
    "pycharm": {
     "name": "#%%\n"
    }
   },
   "outputs": [
    {
     "name": "stdout",
     "output_type": "stream",
     "text": [
      "Epoch 0/2\n",
      "(179, 1, 1) (179, 1) (179, 1) (179, 1, 52)\n"
     ]
    },
    {
     "name": "stderr",
     "output_type": "stream",
     "text": [
      "/home/ec2-user/anaconda3/envs/tensorflow2_p36/lib/python3.6/site-packages/tensorflow_core/python/framework/indexed_slices.py:433: UserWarning: Converting sparse IndexedSlices to a dense Tensor of unknown shape. This may consume a large amount of memory.\n",
      "  \"Converting sparse IndexedSlices to a dense Tensor of unknown shape. \"\n"
     ]
    },
    {
     "name": "stdout",
     "output_type": "stream",
     "text": [
      " 0/64 [..............................] - ETA: 0s(1129, 2, 1) (1129, 2) (1129, 2) (1129, 2, 52)\n",
      " 1/64 [..............................] - ETA: 6:18(586, 3, 1) (586, 3) (586, 3) (586, 3, 52)\n",
      " 2/64 [..............................] - ETA: 3:15(771, 4, 1) (771, 4) (771, 4) (771, 4, 52)\n",
      " 3/64 [>.............................] - ETA: 2:16(751, 5, 1) (751, 5) (751, 5) (751, 5, 52)\n",
      " 4/64 [>.............................] - ETA: 1:47(625, 6, 1) (625, 6) (625, 6) (625, 6, 52)\n",
      " 5/64 [=>............................] - ETA: 1:29(904, 7, 1) (904, 7) (904, 7) (904, 7, 52)\n",
      " 6/64 [=>............................] - ETA: 1:20(1056, 8, 1) (1056, 8) (1056, 8) (1056, 8, 52)\n",
      " 7/64 [==>...........................] - ETA: 1:15(894, 9, 1) (894, 9) (894, 9) (894, 9, 52)\n",
      " 8/64 [==>...........................] - ETA: 1:10(503, 10, 1) (503, 10) (503, 10) (503, 10, 52)\n",
      " 9/64 [===>..........................] - ETA: 1:05(407, 11, 1) (407, 11) (407, 11) (407, 11, 52)\n",
      "10/64 [===>..........................] - ETA: 1:00(324, 12, 1) (324, 12) (324, 12) (324, 12, 52)\n",
      "11/64 [====>.........................] - ETA: 56s (354, 13, 1) (354, 13) (354, 13) (354, 13, 52)\n",
      "12/64 [====>.........................] - ETA: 52s(293, 14, 1) (293, 14) (293, 14) (293, 14, 52)\n",
      "13/64 [=====>........................] - ETA: 49s(279, 15, 1) (279, 15) (279, 15) (279, 15, 52)\n",
      "14/64 [=====>........................] - ETA: 46s(235, 16, 1) (235, 16) (235, 16) (235, 16, 52)\n",
      "15/64 [======>.......................] - ETA: 43s(233, 17, 1) (233, 17) (233, 17) (233, 17, 52)\n",
      "16/64 [======>.......................] - ETA: 41s(198, 18, 1) (198, 18) (198, 18) (198, 18, 52)\n",
      "17/64 [======>.......................] - ETA: 39s(195, 19, 1) (195, 19) (195, 19) (195, 19, 52)\n",
      "18/64 [=======>......................] - ETA: 37s(214, 20, 1) (214, 20) (214, 20) (214, 20, 52)\n",
      "19/64 [=======>......................] - ETA: 36s(213, 21, 1) (213, 21) (213, 21) (213, 21, 52)\n",
      "20/64 [========>.....................] - ETA: 34s(217, 22, 1) (217, 22) (217, 22) (217, 22, 52)\n",
      "21/64 [========>.....................] - ETA: 33s(210, 23, 1) (210, 23) (210, 23) (210, 23, 52)\n",
      "22/64 [=========>....................] - ETA: 32s(221, 24, 1) (221, 24) (221, 24) (221, 24, 52)\n",
      "23/64 [=========>....................] - ETA: 31s(223, 25, 1) (223, 25) (223, 25) (223, 25, 52)\n",
      "24/64 [==========>...................] - ETA: 30s(212, 26, 1) (212, 26) (212, 26) (212, 26, 52)\n",
      "25/64 [==========>...................] - ETA: 29s(202, 27, 1) (202, 27) (202, 27) (202, 27, 52)\n",
      "26/64 [===========>..................] - ETA: 28s(217, 28, 1) (217, 28) (217, 28) (217, 28, 52)\n",
      "27/64 [===========>..................] - ETA: 27s(216, 29, 1) (216, 29) (216, 29) (216, 29, 52)\n",
      "28/64 [============>.................] - ETA: 26s(194, 30, 1) (194, 30) (194, 30) (194, 30, 52)\n",
      "29/64 [============>.................] - ETA: 26s(209, 31, 1) (209, 31) (209, 31) (209, 31, 52)\n",
      "30/64 [=============>................] - ETA: 25s(186, 32, 1) (186, 32) (186, 32) (186, 32, 52)\n",
      "31/64 [=============>................] - ETA: 24s(173, 33, 1) (173, 33) (173, 33) (173, 33, 52)\n",
      "32/64 [==============>...............] - ETA: 23s(155, 34, 1) (155, 34) (155, 34) (155, 34, 52)\n",
      "33/64 [==============>...............] - ETA: 23s(135, 35, 1) (135, 35) (135, 35) (135, 35, 52)\n",
      "34/64 [==============>...............] - ETA: 22s(124, 36, 1) (124, 36) (124, 36) (124, 36, 52)\n",
      "35/64 [===============>..............] - ETA: 21s(102, 37, 1) (102, 37) (102, 37) (102, 37, 52)\n",
      "36/64 [===============>..............] - ETA: 20s(98, 38, 1) (98, 38) (98, 38) (98, 38, 52)\n",
      "37/64 [================>.............] - ETA: 19s(109, 39, 1) (109, 39) (109, 39) (109, 39, 52)\n",
      "38/64 [================>.............] - ETA: 18s(80, 40, 1) (80, 40) (80, 40) (80, 40, 52)\n",
      "39/64 [=================>............] - ETA: 17s(72, 41, 1) (72, 41) (72, 41) (72, 41, 52)\n",
      "40/64 [=================>............] - ETA: 17s(64, 42, 1) (64, 42) (64, 42) (64, 42, 52)\n",
      "41/64 [==================>...........] - ETA: 16s(52, 43, 1) (52, 43) (52, 43) (52, 43, 52)\n",
      "42/64 [==================>...........] - ETA: 15s(45, 44, 1) (45, 44) (45, 44) (45, 44, 52)\n",
      "43/64 [===================>..........] - ETA: 14s(40, 45, 1) (40, 45) (40, 45) (40, 45, 52)\n",
      "44/64 [===================>..........] - ETA: 13s(27, 46, 1) (27, 46) (27, 46) (27, 46, 52)\n",
      "45/64 [====================>.........] - ETA: 12s(21, 47, 1) (21, 47) (21, 47) (21, 47, 52)\n",
      "46/64 [====================>.........] - ETA: 12s(18, 48, 1) (18, 48) (18, 48) (18, 48, 52)\n",
      "47/64 [=====================>........] - ETA: 11s(13, 49, 1) (13, 49) (13, 49) (13, 49, 52)\n",
      "48/64 [=====================>........] - ETA: 10s(15, 50, 1) (15, 50) (15, 50) (15, 50, 52)\n",
      "49/64 [=====================>........] - ETA: 9s (10, 51, 1) (10, 51) (10, 51) (10, 51, 52)\n",
      "50/64 [======================>.......] - ETA: 8s(11, 52, 1) (11, 52) (11, 52) (11, 52, 52)\n",
      "51/64 [======================>.......] - ETA: 8s(3, 53, 1) (3, 53) (3, 53) (3, 53, 52)\n",
      "52/64 [=======================>......] - ETA: 7s(4, 54, 1) (4, 54) (4, 54) (4, 54, 52)\n",
      "53/64 [=======================>......] - ETA: 6s(5, 55, 1) (5, 55) (5, 55) (5, 55, 52)\n",
      "54/64 [========================>.....] - ETA: 6s(1, 56, 1) (1, 56) (1, 56) (1, 56, 52)\n",
      "55/64 [========================>.....] - ETA: 5s(3, 57, 1) (3, 57) (3, 57) (3, 57, 52)\n",
      "56/64 [=========================>....] - ETA: 4s(2, 58, 1) (2, 58) (2, 58) (2, 58, 52)\n",
      "57/64 [=========================>....] - ETA: 4s(2, 59, 1) (2, 59) (2, 59) (2, 59, 52)\n",
      "58/64 [==========================>...] - ETA: 3s(2, 60, 1) (2, 60) (2, 60) (2, 60, 52)\n",
      "59/64 [==========================>...] - ETA: 2s(2, 62, 1) (2, 62) (2, 62) (2, 62, 52)\n",
      "60/64 [===========================>..] - ETA: 2s(1, 67, 1) (1, 67) (1, 67) (1, 67, 52)\n",
      "61/64 [===========================>..] - ETA: 1s(1, 78, 1) (1, 78) (1, 78) (1, 78, 52)\n",
      "62/64 [============================>.] - ETA: 1s(1, 113, 1) (1, 113) (1, 113) (1, 113, 52)\n",
      "64/64 [==============================] - 35s 548ms/step\n",
      " \n",
      "Epoch 1/2\n",
      "(179, 1, 1) (179, 1) (179, 1) (179, 1, 52)\n",
      " 0/64 [..............................] - ETA: 0s(1129, 2, 1) (1129, 2) (1129, 2) (1129, 2, 52)\n",
      " 1/64 [..............................] - ETA: 14s(586, 3, 1) (586, 3) (586, 3) (586, 3, 52)\n",
      " 2/64 [..............................] - ETA: 12s(771, 4, 1) (771, 4) (771, 4) (771, 4, 52)\n",
      " 3/64 [>.............................] - ETA: 13s(751, 5, 1) (751, 5) (751, 5) (751, 5, 52)\n",
      " 4/64 [>.............................] - ETA: 14s(625, 6, 1) (625, 6) (625, 6) (625, 6, 52)\n",
      " 5/64 [=>............................] - ETA: 15s(904, 7, 1) (904, 7) (904, 7) (904, 7, 52)\n",
      " 6/64 [=>............................] - ETA: 18s(1056, 8, 1) (1056, 8) (1056, 8) (1056, 8, 52)\n",
      " 7/64 [==>...........................] - ETA: 21s(894, 9, 1) (894, 9) (894, 9) (894, 9, 52)\n",
      " 8/64 [==>...........................] - ETA: 23s(503, 10, 1) (503, 10) (503, 10) (503, 10, 52)\n",
      " 9/64 [===>..........................] - ETA: 23s(407, 11, 1) (407, 11) (407, 11) (407, 11, 52)\n",
      "10/64 [===>..........................] - ETA: 22s(324, 12, 1) (324, 12) (324, 12) (324, 12, 52)\n",
      "11/64 [====>.........................] - ETA: 22s(354, 13, 1) (354, 13) (354, 13) (354, 13, 52)\n",
      "12/64 [====>.........................] - ETA: 21s(293, 14, 1) (293, 14) (293, 14) (293, 14, 52)\n",
      "13/64 [=====>........................] - ETA: 21s(279, 15, 1) (279, 15) (279, 15) (279, 15, 52)\n",
      "14/64 [=====>........................] - ETA: 21s(235, 16, 1) (235, 16) (235, 16) (235, 16, 52)\n",
      "15/64 [======>.......................] - ETA: 21s(233, 17, 1) (233, 17) (233, 17) (233, 17, 52)\n",
      "16/64 [======>.......................] - ETA: 20s(198, 18, 1) (198, 18) (198, 18) (198, 18, 52)\n",
      "17/64 [======>.......................] - ETA: 20s(195, 19, 1) (195, 19) (195, 19) (195, 19, 52)\n",
      "18/64 [=======>......................] - ETA: 19s(214, 20, 1) (214, 20) (214, 20) (214, 20, 52)\n",
      "19/64 [=======>......................] - ETA: 19s(213, 21, 1) (213, 21) (213, 21) (213, 21, 52)\n",
      "20/64 [========>.....................] - ETA: 19s(217, 22, 1) (217, 22) (217, 22) (217, 22, 52)\n",
      "21/64 [========>.....................] - ETA: 19s(210, 23, 1) (210, 23) (210, 23) (210, 23, 52)\n",
      "22/64 [=========>....................] - ETA: 18s(221, 24, 1) (221, 24) (221, 24) (221, 24, 52)\n",
      "23/64 [=========>....................] - ETA: 18s(223, 25, 1) (223, 25) (223, 25) (223, 25, 52)\n",
      "24/64 [==========>...................] - ETA: 18s(212, 26, 1) (212, 26) (212, 26) (212, 26, 52)\n",
      "25/64 [==========>...................] - ETA: 18s(202, 27, 1) (202, 27) (202, 27) (202, 27, 52)\n",
      "26/64 [===========>..................] - ETA: 18s(217, 28, 1) (217, 28) (217, 28) (217, 28, 52)\n",
      "27/64 [===========>..................] - ETA: 18s(216, 29, 1) (216, 29) (216, 29) (216, 29, 52)\n",
      "28/64 [============>.................] - ETA: 18s(194, 30, 1) (194, 30) (194, 30) (194, 30, 52)\n",
      "29/64 [============>.................] - ETA: 17s(209, 31, 1) (209, 31) (209, 31) (209, 31, 52)\n",
      "30/64 [=============>................] - ETA: 17s(186, 32, 1) (186, 32) (186, 32) (186, 32, 52)\n",
      "31/64 [=============>................] - ETA: 17s(173, 33, 1) (173, 33) (173, 33) (173, 33, 52)\n",
      "32/64 [==============>...............] - ETA: 17s(155, 34, 1) (155, 34) (155, 34) (155, 34, 52)\n",
      "33/64 [==============>...............] - ETA: 16s(135, 35, 1) (135, 35) (135, 35) (135, 35, 52)\n",
      "34/64 [==============>...............] - ETA: 16s(124, 36, 1) (124, 36) (124, 36) (124, 36, 52)\n",
      "35/64 [===============>..............] - ETA: 15s(102, 37, 1) (102, 37) (102, 37) (102, 37, 52)\n",
      "36/64 [===============>..............] - ETA: 15s(98, 38, 1) (98, 38) (98, 38) (98, 38, 52)\n",
      "37/64 [================>.............] - ETA: 14s(109, 39, 1) (109, 39) (109, 39) (109, 39, 52)\n",
      "38/64 [================>.............] - ETA: 14s(80, 40, 1) (80, 40) (80, 40) (80, 40, 52)\n",
      "39/64 [=================>............] - ETA: 13s(72, 41, 1) (72, 41) (72, 41) (72, 41, 52)\n",
      "40/64 [=================>............] - ETA: 12s(64, 42, 1) (64, 42) (64, 42) (64, 42, 52)\n",
      "41/64 [==================>...........] - ETA: 12s(52, 43, 1) (52, 43) (52, 43) (52, 43, 52)\n",
      "42/64 [==================>...........] - ETA: 11s(45, 44, 1) (45, 44) (45, 44) (45, 44, 52)\n",
      "43/64 [===================>..........] - ETA: 11s(40, 45, 1) (40, 45) (40, 45) (40, 45, 52)\n",
      "44/64 [===================>..........] - ETA: 10s(27, 46, 1) (27, 46) (27, 46) (27, 46, 52)\n",
      "45/64 [====================>.........] - ETA: 9s (21, 47, 1) (21, 47) (21, 47) (21, 47, 52)\n",
      "46/64 [====================>.........] - ETA: 9s(18, 48, 1) (18, 48) (18, 48) (18, 48, 52)\n",
      "47/64 [=====================>........] - ETA: 8s(13, 49, 1) (13, 49) (13, 49) (13, 49, 52)\n",
      "48/64 [=====================>........] - ETA: 8s(15, 50, 1) (15, 50) (15, 50) (15, 50, 52)\n",
      "49/64 [=====================>........] - ETA: 7s(10, 51, 1) (10, 51) (10, 51) (10, 51, 52)\n",
      "50/64 [======================>.......] - ETA: 6s(11, 52, 1) (11, 52) (11, 52) (11, 52, 52)\n",
      "51/64 [======================>.......] - ETA: 6s(3, 53, 1) (3, 53) (3, 53) (3, 53, 52)\n",
      "52/64 [=======================>......] - ETA: 5s(4, 54, 1) (4, 54) (4, 54) (4, 54, 52)\n",
      "53/64 [=======================>......] - ETA: 5s(5, 55, 1) (5, 55) (5, 55) (5, 55, 52)\n",
      "54/64 [========================>.....] - ETA: 4s(1, 56, 1) (1, 56) (1, 56) (1, 56, 52)\n",
      "55/64 [========================>.....] - ETA: 4s(3, 57, 1) (3, 57) (3, 57) (3, 57, 52)\n",
      "56/64 [=========================>....] - ETA: 3s(2, 58, 1) (2, 58) (2, 58) (2, 58, 52)\n",
      "57/64 [=========================>....] - ETA: 3s(2, 59, 1) (2, 59) (2, 59) (2, 59, 52)\n",
      "58/64 [==========================>...] - ETA: 2s(2, 60, 1) (2, 60) (2, 60) (2, 60, 52)\n",
      "59/64 [==========================>...] - ETA: 2s(2, 62, 1) (2, 62) (2, 62) (2, 62, 52)\n",
      "60/64 [===========================>..] - ETA: 1s(1, 67, 1) (1, 67) (1, 67) (1, 67, 52)\n",
      "61/64 [===========================>..] - ETA: 1s(1, 78, 1) (1, 78) (1, 78) (1, 78, 52)\n",
      "62/64 [============================>.] - ETA: 0s(1, 113, 1) (1, 113) (1, 113) (1, 113, 52)\n",
      "64/64 [==============================] - 28s 437ms/step\n",
      " \n"
     ]
    }
   ],
   "source": [
    "epochs = 2\n",
    "for epoch in range(epochs):\n",
    "    print(\"Epoch %d/%d\" % (epoch, epochs))\n",
    "    a = Progbar(len(train_num_sentences_in_batch))\n",
    "    for i, batch in enumerate(iterate_minibatches(train_batches, train_num_sentences_in_batch)):\n",
    "        labels, words, casing, char = batch\n",
    "        print(labels.shape, words.shape, casing.shape, char.shape)\n",
    "        model.train_on_batch([words, casing, char], labels)\n",
    "        a.update(i)\n",
    "    a.update(i + 1)\n",
    "    print(\" \")"
   ]
  },
  {
   "cell_type": "code",
   "execution_count": null,
   "metadata": {},
   "outputs": [],
   "source": [
    "char"
   ]
  },
  {
   "cell_type": "code",
   "execution_count": null,
   "metadata": {
    "collapsed": false,
    "jupyter": {
     "outputs_hidden": false
    },
    "pycharm": {
     "name": "#%%\n"
    }
   },
   "outputs": [],
   "source": [
    "model.save(\"models/model.h5\")"
   ]
  },
  {
   "cell_type": "markdown",
   "metadata": {
    "pycharm": {
     "name": "#%% md\n"
    }
   },
   "source": [
    "### Performance in validation set"
   ]
  },
  {
   "cell_type": "code",
   "execution_count": null,
   "metadata": {
    "collapsed": false,
    "jupyter": {
     "outputs_hidden": false
    },
    "pycharm": {
     "name": "#%%\n"
    }
   },
   "outputs": [],
   "source": [
    "def tag_dataset(model, dataset):\n",
    "    correctLabels = []\n",
    "    predLabels = []\n",
    "    b = Progbar(len(dataset))\n",
    "    for i, data in enumerate(dataset):\n",
    "        tokens, casing, char, labels = data\n",
    "        tokens = np.asarray([tokens])\n",
    "        casing = np.asarray([casing])\n",
    "        char = np.asarray([char])\n",
    "        pred = model.predict([tokens, casing, char], verbose=False)[0]\n",
    "        pred = pred.argmax(axis=-1)  # Predict the classes\n",
    "        correctLabels.append(labels)\n",
    "        predLabels.append(pred)\n",
    "        b.update(i)\n",
    "    b.update(i + 1)\n",
    "    return predLabels, correctLabels"
   ]
  },
  {
   "cell_type": "code",
   "execution_count": null,
   "metadata": {
    "collapsed": false,
    "jupyter": {
     "outputs_hidden": false
    },
    "pycharm": {
     "is_executing": true,
     "name": "#%%\n"
    }
   },
   "outputs": [],
   "source": [
    "predicted_classes, correct_classes = tag_dataset(model, val_batches)"
   ]
  },
  {
   "cell_type": "code",
   "execution_count": null,
   "metadata": {},
   "outputs": [],
   "source": [
    "precision, recall, f1 = compute_f1(predicted_classes, correct_classes, idx2class)\n",
    "print(\"Dev-Data: Prec: %.3f, Rec: %.3f, F1: %.3f\" % (precision, recall, f1))"
   ]
  },
  {
   "cell_type": "markdown",
   "metadata": {
    "pycharm": {
     "name": "#%% md\n"
    }
   },
   "source": [
    "### Performance in test set"
   ]
  },
  {
   "cell_type": "code",
   "execution_count": null,
   "metadata": {},
   "outputs": [],
   "source": [
    "predicted_classes, correct_classes = tag_dataset(model, test_batches)"
   ]
  },
  {
   "cell_type": "code",
   "execution_count": null,
   "metadata": {
    "collapsed": false,
    "jupyter": {
     "outputs_hidden": false
    },
    "pycharm": {
     "is_executing": true,
     "name": "#%%\n"
    }
   },
   "outputs": [],
   "source": [
    "precision, recall, f1 = compute_f1(predicted_classes, correct_classes, idx2class)\n",
    "print(\"Dev-Data: Prec: %.3f, Rec: %.3f, F1: %.3f\" % (precision, recall, f1\n",
    "))"
   ]
  },
  {
   "cell_type": "code",
   "execution_count": null,
   "metadata": {},
   "outputs": [],
   "source": [
    "layer_output=model.get_layer(layer_name).output\n",
    "intermediate_model=tf.keras.models.Model(inputs=model.input,outputs=layer_output)\n",
    "intermediate_prediction=intermediate_model.predict(x_train[2].reshape(1,28,28,1))"
   ]
  }
 ],
 "metadata": {
  "kernelspec": {
   "display_name": "conda_tensorflow2_p36",
   "language": "python",
   "name": "conda_tensorflow2_p36"
  },
  "language_info": {
   "codemirror_mode": {
    "name": "ipython",
    "version": 3
   },
   "file_extension": ".py",
   "mimetype": "text/x-python",
   "name": "python",
   "nbconvert_exporter": "python",
   "pygments_lexer": "ipython3",
   "version": "3.6.13"
  }
 },
 "nbformat": 4,
 "nbformat_minor": 4
}
