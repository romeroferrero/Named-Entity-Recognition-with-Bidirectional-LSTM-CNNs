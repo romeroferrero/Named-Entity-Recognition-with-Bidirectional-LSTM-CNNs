{
 "cells": [
  {
   "cell_type": "markdown",
   "id": "5b57c34c",
   "metadata": {},
   "source": [
    "# Training with SageMaker"
   ]
  },
  {
   "cell_type": "code",
   "execution_count": 1,
   "id": "88cf0faa",
   "metadata": {},
   "outputs": [],
   "source": [
    "import os\n",
    "import sagemaker\n",
    "import boto3 \n",
    "import botocore\n",
    "from pprint import pprint\n",
    "\n",
    "sess = sagemaker.Session()\n",
    "role = sagemaker.get_execution_role()\n",
    "client_config = botocore.config.Config(max_pool_connections=16)\n",
    "s3_client = boto3.client('s3',config=client_config)"
   ]
  },
  {
   "cell_type": "code",
   "execution_count": 2,
   "id": "2234ac1a",
   "metadata": {},
   "outputs": [],
   "source": [
    "data_src_folder = '../data/'\n",
    "embeddings_src_folder = '../embeddings/'\n",
    "bucket = 'veriff-sagemaker-data'\n",
    "bucket_folder = 'datasets/ner_field_extraction/conll-2003-data'\n",
    "bucket_data_folder = bucket_folder + '/' + 'data'\n",
    "bucket_embeddings_folder = bucket_folder + '/' + 'embeddings'"
   ]
  },
  {
   "cell_type": "markdown",
   "id": "903b78a3",
   "metadata": {},
   "source": [
    "## Download data"
   ]
  },
  {
   "cell_type": "code",
   "execution_count": 3,
   "id": "05c98b34",
   "metadata": {},
   "outputs": [],
   "source": [
    "# Check where to download the train.txt, val.txt and test.txt files from into ../data/ folder"
   ]
  },
  {
   "cell_type": "markdown",
   "id": "4d0c4203",
   "metadata": {},
   "source": [
    "## Download embeddings to notebook instance"
   ]
  },
  {
   "cell_type": "code",
   "execution_count": 4,
   "id": "d922075b",
   "metadata": {},
   "outputs": [],
   "source": [
    "# %cd ../embeddings\n",
    "# !wget http://nlp.stanford.edu/data/glove.6B.zip\n",
    "# !unzip glove.6B.zip\n",
    "# %cd .."
   ]
  },
  {
   "cell_type": "markdown",
   "id": "c565cb85",
   "metadata": {},
   "source": [
    "## Upload data and embeddings to S3 bucket"
   ]
  },
  {
   "cell_type": "code",
   "execution_count": 5,
   "id": "233d14e0",
   "metadata": {},
   "outputs": [
    {
     "name": "stdout",
     "output_type": "stream",
     "text": [
      "datasets/ner_field_extraction/conll-2003-data/data/train.txt\n",
      "datasets/ner_field_extraction/conll-2003-data/data/val.txt\n",
      "datasets/ner_field_extraction/conll-2003-data/data/test.txt\n",
      "datasets/ner_field_extraction/conll-2003-data/embeddings/glove.6B.50d.txt\n",
      "datasets/ner_field_extraction/conll-2003-data/embeddings/glove.6B.100d.txt\n",
      "datasets/ner_field_extraction/conll-2003-data/embeddings/glove.6B.200d.txt\n",
      "datasets/ner_field_extraction/conll-2003-data/embeddings/glove.6B.300d.txt\n",
      "{'data': {'bucket_file_paths': {'test': 'veriff-sagemaker-data/datasets/ner_field_extraction/conll-2003-data/data/test.txt',\n",
      "                                'train': 'veriff-sagemaker-data/datasets/ner_field_extraction/conll-2003-data/data/train.txt',\n",
      "                                'val': 'veriff-sagemaker-data/datasets/ner_field_extraction/conll-2003-data/data/val.txt'},\n",
      "          'bucket_folder': 'datasets/ner_field_extraction/conll-2003-data/data',\n",
      "          'file_names': ['train.txt', 'val.txt', 'test.txt'],\n",
      "          'local_folder': '../data/'},\n",
      " 'embeddings': {'bucket_file_paths': {'glove.6B.100d': 'veriff-sagemaker-data/datasets/ner_field_extraction/conll-2003-data/embeddings/glove.6B.100d.txt',\n",
      "                                      'glove.6B.200d': 'veriff-sagemaker-data/datasets/ner_field_extraction/conll-2003-data/embeddings/glove.6B.200d.txt',\n",
      "                                      'glove.6B.300d': 'veriff-sagemaker-data/datasets/ner_field_extraction/conll-2003-data/embeddings/glove.6B.300d.txt',\n",
      "                                      'glove.6B.50d': 'veriff-sagemaker-data/datasets/ner_field_extraction/conll-2003-data/embeddings/glove.6B.50d.txt'},\n",
      "                'bucket_folder': 'datasets/ner_field_extraction/conll-2003-data/embeddings',\n",
      "                'file_names': ['glove.6B.50d.txt',\n",
      "                               'glove.6B.100d.txt',\n",
      "                               'glove.6B.200d.txt',\n",
      "                               'glove.6B.300d.txt'],\n",
      "                'local_folder': '../embeddings/'}}\n"
     ]
    }
   ],
   "source": [
    "local_data_folder = '../data/'\n",
    "local_embeddings_folder = '../embeddings/'\n",
    "\n",
    "data_file_names = ['train.txt', 'val.txt', 'test.txt']\n",
    "embeddings_file_names = ['glove.6B.50d.txt', 'glove.6B.100d.txt', 'glove.6B.200d.txt', 'glove.6B.300d.txt']\n",
    "\n",
    "bucket = 'veriff-sagemaker-data'\n",
    "bucket_folder = 'datasets/ner_field_extraction/conll-2003-data'\n",
    "bucket_data_folder = bucket_folder + '/' + 'data'\n",
    "bucket_embeddings_folder = bucket_folder + '/' + 'embeddings'\n",
    "\n",
    "files = {\n",
    "    \"data\": {\n",
    "        \"local_folder\": local_data_folder,\n",
    "        \"file_names\": data_file_names,\n",
    "        \"bucket_folder\": bucket_data_folder\n",
    "    },\n",
    "    \"embeddings\": {\n",
    "        \"local_folder\": local_embeddings_folder,\n",
    "        \"file_names\": embeddings_file_names,\n",
    "        \"bucket_folder\": bucket_embeddings_folder,\n",
    "        \n",
    "    }\n",
    "}\n",
    "\n",
    "for data_type, info in files.items():\n",
    "    info['bucket_file_paths'] = {}\n",
    "    for file_name in info['file_names']:\n",
    "        local_file = os.path.join(info['local_folder'], file_name)\n",
    "        assert os.path.isfile(local_file)\n",
    "        print(info['bucket_folder'] + '/' + file_name)\n",
    "        s3_client.upload_file(local_file, bucket, info['bucket_folder'] + '/' + file_name)\n",
    "        info['bucket_file_paths'][os.path.splitext(file_name)[0]] = bucket + '/' + info['bucket_folder'] + '/' + file_name\n",
    "    \n",
    "pprint(files)"
   ]
  },
  {
   "cell_type": "code",
   "execution_count": 6,
   "id": "f7a35338",
   "metadata": {},
   "outputs": [
    {
     "name": "stdout",
     "output_type": "stream",
     "text": [
      "{'Contents': [{'ETag': '\"9cdd4db35b65db782ea91c80f62d074e\"',\n",
      "               'Key': 'datasets/ner_field_extraction/conll-2003-data/data/test.txt',\n",
      "               'LastModified': datetime.datetime(2022, 4, 21, 14, 13, 36, tzinfo=tzlocal()),\n",
      "               'Size': 748095,\n",
      "               'StorageClass': 'STANDARD'},\n",
      "              {'ETag': '\"a595d83962c932f2b59fb52227a16086\"',\n",
      "               'Key': 'datasets/ner_field_extraction/conll-2003-data/data/train.txt',\n",
      "               'LastModified': datetime.datetime(2022, 4, 21, 14, 13, 35, tzinfo=tzlocal()),\n",
      "               'Size': 3283420,\n",
      "               'StorageClass': 'STANDARD'},\n",
      "              {'ETag': '\"d9492db1858f07a26cbb1f3b3f98a49f\"',\n",
      "               'Key': 'datasets/ner_field_extraction/conll-2003-data/data/val.txt',\n",
      "               'LastModified': datetime.datetime(2022, 4, 21, 14, 13, 36, tzinfo=tzlocal()),\n",
      "               'Size': 827443,\n",
      "               'StorageClass': 'STANDARD'},\n",
      "              {'ETag': '\"7e5eb4041401f51c93ec36f4e09a4f15-42\"',\n",
      "               'Key': 'datasets/ner_field_extraction/conll-2003-data/embeddings/glove.6B.100d.txt',\n",
      "               'LastModified': datetime.datetime(2022, 4, 21, 14, 13, 37, tzinfo=tzlocal()),\n",
      "               'Size': 347116733,\n",
      "               'StorageClass': 'STANDARD'},\n",
      "              {'ETag': '\"8ee1d0a8b99eac72750bc605b180ccc3-83\"',\n",
      "               'Key': 'datasets/ner_field_extraction/conll-2003-data/embeddings/glove.6B.200d.txt',\n",
      "               'LastModified': datetime.datetime(2022, 4, 21, 14, 13, 40, tzinfo=tzlocal()),\n",
      "               'Size': 693432828,\n",
      "               'StorageClass': 'STANDARD'},\n",
      "              {'ETag': '\"29a1803af0a6ed183780c4fa9266968d-124\"',\n",
      "               'Key': 'datasets/ner_field_extraction/conll-2003-data/embeddings/glove.6B.300d.txt',\n",
      "               'LastModified': datetime.datetime(2022, 4, 21, 14, 13, 45, tzinfo=tzlocal()),\n",
      "               'Size': 1037962819,\n",
      "               'StorageClass': 'STANDARD'},\n",
      "              {'ETag': '\"aa432ebd3d2c73401f66643edab7269a-21\"',\n",
      "               'Key': 'datasets/ner_field_extraction/conll-2003-data/embeddings/glove.6B.50d.txt',\n",
      "               'LastModified': datetime.datetime(2022, 4, 21, 14, 13, 36, tzinfo=tzlocal()),\n",
      "               'Size': 171350079,\n",
      "               'StorageClass': 'STANDARD'}],\n",
      " 'EncodingType': 'url',\n",
      " 'IsTruncated': False,\n",
      " 'KeyCount': 7,\n",
      " 'MaxKeys': 1000,\n",
      " 'Name': 'veriff-sagemaker-data',\n",
      " 'Prefix': 'datasets/ner_field_extraction/conll-2003-data',\n",
      " 'ResponseMetadata': {'HTTPHeaders': {'content-type': 'application/xml',\n",
      "                                      'date': 'Thu, 21 Apr 2022 14:13:53 GMT',\n",
      "                                      'server': 'AmazonS3',\n",
      "                                      'transfer-encoding': 'chunked',\n",
      "                                      'x-amz-bucket-region': 'eu-west-1',\n",
      "                                      'x-amz-id-2': 'DJkPyNVrcjTegQ/EQnff+FclxBzGOoR/Xl4PWSGUBexC2p71geSbHG1WLO3MZUhSYSzsnwCgyMs=',\n",
      "                                      'x-amz-request-id': '4D8NN29WBQNWZDKX'},\n",
      "                      'HTTPStatusCode': 200,\n",
      "                      'HostId': 'DJkPyNVrcjTegQ/EQnff+FclxBzGOoR/Xl4PWSGUBexC2p71geSbHG1WLO3MZUhSYSzsnwCgyMs=',\n",
      "                      'RequestId': '4D8NN29WBQNWZDKX',\n",
      "                      'RetryAttempts': 0}}\n"
     ]
    }
   ],
   "source": [
    "objects_in_s3_folder = s3_client.list_objects_v2(Bucket=bucket, Prefix=bucket_folder)\n",
    "pprint(objects_in_s3_folder)"
   ]
  },
  {
   "cell_type": "code",
   "execution_count": 7,
   "id": "d1bb787d",
   "metadata": {},
   "outputs": [
    {
     "name": "stdout",
     "output_type": "stream",
     "text": [
      "{'embeddings': 's3://veriff-sagemaker-data/datasets/ner_field_extraction/conll-2003-data/embeddings',\n",
      " 'test': 's3://veriff-sagemaker-data/datasets/ner_field_extraction/conll-2003-data/data/test.txt',\n",
      " 'train': 's3://veriff-sagemaker-data/datasets/ner_field_extraction/conll-2003-data/data/train.txt',\n",
      " 'validation': 's3://veriff-sagemaker-data/datasets/ner_field_extraction/conll-2003-data/data/val.txt'}\n"
     ]
    }
   ],
   "source": [
    "# Create a train data channel with S3_data_type as 'AugmentedManifestFile' and attribute names.\n",
    "data_channels = {\n",
    "    'train': \"s3://\"+files['data']['bucket_file_paths']['train'], \n",
    "    'validation': \"s3://\"+files['data']['bucket_file_paths']['val'], \n",
    "    'test': \"s3://\"+files['data']['bucket_file_paths']['test'],\n",
    "    'embeddings': \"s3://\"+bucket+'/'+files['embeddings']['bucket_folder']\n",
    "}\n",
    "pprint(data_channels)"
   ]
  },
  {
   "cell_type": "markdown",
   "id": "c3e0e8bf",
   "metadata": {},
   "source": [
    "## Train with Tensorflow on the notebook instance (aka 'local mode')"
   ]
  },
  {
   "cell_type": "code",
   "execution_count": 8,
   "id": "909b48a9",
   "metadata": {},
   "outputs": [],
   "source": [
    "from sagemaker.tensorflow import TensorFlow\n",
    "\n",
    "LOCAL = False\n",
    "\n",
    "tf_estimator = TensorFlow(\n",
    "    entry_point='train.py',\n",
    "    code_location=\"s3://veriff-sagemaker-data/source\",\n",
    "    role=role,\n",
    "    instance_count=1, \n",
    "    instance_type= 'local' if LOCAL else 'ml.p3.2xlarge',\n",
    "    volume_size = 200,\n",
    "    input_mode = 'File',\n",
    "    output_path=\"s3://veriff-sagemaker-data/out/\",                          \n",
    "    debugger_hook_config=False,\n",
    "    checkpoint_s3_uri= None if LOCAL else \"s3://veriff-sagemaker-data/checkpoints\",\n",
    "    hyperparameters={\"epochs\": 50, \"embedding_size\": 50},\n",
    "    base_job_name=\"ner-field-extraction-conll-2003\",\n",
    "    #dependencies=['dependencies'],\n",
    "    framework_version='2.3.0', #'1.15.3',\n",
    "    py_version='py37', \n",
    "#     image_uri=\"public.ecr.aws/bitnami/tensorflow-serving:latest\",\n",
    "    metric_definitions=[\n",
    "        {'Name': 'train:seconds_per_epoch', 'Regex': '.*-\\s([0-9]*)s\\s-.*'},\n",
    "        {'Name': 'train:loss', 'Regex': 'loss:\\s(.*?)\\s'},\n",
    "        {'Name': 'validation:loss', 'Regex': 'val_loss:\\s(.*?)\\s'},\n",
    "        {'Name': 'train:accuracy', 'Regex': 'accuracy:\\s(.*?)\\s'},\n",
    "        {'Name': 'validation:loss', 'Regex': 'val_accuracy:\\s(.*?)\\s'},\n",
    "    ],\n",
    "    script_mode=True,\n",
    "    max_run = 259200, \n",
    "    source_dir = '.'\n",
    ")"
   ]
  },
  {
   "cell_type": "code",
   "execution_count": 9,
   "id": "e0bbd5ab",
   "metadata": {},
   "outputs": [],
   "source": [
    "# Train the model.\n",
    "tf_estimator.fit(job_name=None, \n",
    "                 experiment_config=None,\n",
    "                 inputs=data_channels, \n",
    "                 logs=\"All\", \n",
    "                 wait=False)"
   ]
  },
  {
   "cell_type": "code",
   "execution_count": null,
   "id": "33a8126e",
   "metadata": {},
   "outputs": [],
   "source": []
  }
 ],
 "metadata": {
  "kernelspec": {
   "display_name": "conda_tensorflow2_p36",
   "language": "python",
   "name": "conda_tensorflow2_p36"
  },
  "language_info": {
   "codemirror_mode": {
    "name": "ipython",
    "version": 3
   },
   "file_extension": ".py",
   "mimetype": "text/x-python",
   "name": "python",
   "nbconvert_exporter": "python",
   "pygments_lexer": "ipython3",
   "version": "3.6.13"
  }
 },
 "nbformat": 4,
 "nbformat_minor": 5
}
