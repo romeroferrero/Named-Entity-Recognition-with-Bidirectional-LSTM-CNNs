{
 "cells": [
  {
   "cell_type": "code",
   "execution_count": 1,
   "metadata": {},
   "outputs": [],
   "source": [
    "%load_ext autoreload\n",
    "%autoreload 2"
   ]
  },
  {
   "cell_type": "code",
   "execution_count": 2,
   "metadata": {
    "collapsed": false,
    "jupyter": {
     "outputs_hidden": false
    },
    "pycharm": {
     "name": "#%%\n"
    }
   },
   "outputs": [
    {
     "name": "stderr",
     "output_type": "stream",
     "text": [
      "Using TensorFlow backend.\n"
     ]
    }
   ],
   "source": [
    "import numpy as np\n",
    "import pandas as pd\n",
    "import matplotlib.pyplot as plt\n",
    "from keras.initializers import RandomUniform\n",
    "from keras.layers import (\n",
    "    LSTM,\n",
    "    Bidirectional,\n",
    "    Conv1D,\n",
    "    Dense,\n",
    "    Dropout,\n",
    "    Embedding,\n",
    "    Flatten,\n",
    "    Input,\n",
    "    MaxPooling1D,\n",
    "    TimeDistributed,\n",
    "    concatenate,\n",
    ")\n",
    "from keras.callbacks import ModelCheckpoint, CSVLogger\n",
    "from keras.models import Model\n",
    "from keras.preprocessing.sequence import pad_sequences\n",
    "from keras.utils import Progbar\n",
    "\n",
    "from prepro import (\n",
    "    add_char_information,\n",
    "    create_batches,\n",
    "    create_matrices,\n",
    "    iterate_minibatches,\n",
    "    padding,\n",
    "    readfile,\n",
    "    tag_dataset,\n",
    ")\n",
    "from validation import compute_f1"
   ]
  },
  {
   "cell_type": "markdown",
   "metadata": {
    "pycharm": {
     "name": "#%% md\n"
    }
   },
   "source": [
    "# Prepare Data"
   ]
  },
  {
   "cell_type": "markdown",
   "metadata": {
    "pycharm": {
     "name": "#%% md\n"
    }
   },
   "source": [
    "### Download data"
   ]
  },
  {
   "cell_type": "code",
   "execution_count": 3,
   "metadata": {
    "collapsed": false,
    "jupyter": {
     "outputs_hidden": false
    },
    "pycharm": {
     "name": "#%%\n"
    }
   },
   "outputs": [],
   "source": [
    "# %cd embeddings\n",
    "# !wget http://nlp.stanford.edu/data/glove.6B.zip\n",
    "# !unzip glove.6B.zip\n",
    "# %cd .."
   ]
  },
  {
   "cell_type": "markdown",
   "metadata": {
    "pycharm": {
     "name": "#%% md\n"
    }
   },
   "source": [
    "### Load data"
   ]
  },
  {
   "cell_type": "code",
   "execution_count": 4,
   "metadata": {
    "collapsed": false,
    "jupyter": {
     "outputs_hidden": false
    },
    "pycharm": {
     "name": "#%%\n"
    }
   },
   "outputs": [
    {
     "name": "stdout",
     "output_type": "stream",
     "text": [
      "14041 3250 3453\n"
     ]
    }
   ],
   "source": [
    "train_sentences = readfile(\"../data/train.txt\")\n",
    "val_sentences = readfile(\"../data/valid.txt\")\n",
    "test_sentences = readfile(\"../data/test.txt\")\n",
    "print(len(train_sentences), len(val_sentences), len(test_sentences))"
   ]
  },
  {
   "cell_type": "code",
   "execution_count": 5,
   "metadata": {
    "collapsed": false,
    "jupyter": {
     "outputs_hidden": false
    },
    "pycharm": {
     "name": "#%%\n"
    }
   },
   "outputs": [
    {
     "data": {
      "text/plain": [
       "[['EU', 'B-ORG\\n'],\n",
       " ['rejects', 'O\\n'],\n",
       " ['German', 'B-MISC\\n'],\n",
       " ['call', 'O\\n'],\n",
       " ['to', 'O\\n'],\n",
       " ['boycott', 'O\\n'],\n",
       " ['British', 'B-MISC\\n'],\n",
       " ['lamb', 'O\\n'],\n",
       " ['.', 'O\\n']]"
      ]
     },
     "execution_count": 5,
     "metadata": {},
     "output_type": "execute_result"
    }
   ],
   "source": [
    "train_sentences[0]"
   ]
  },
  {
   "cell_type": "markdown",
   "metadata": {
    "pycharm": {
     "name": "#%% md\n"
    }
   },
   "source": [
    "### Add character information"
   ]
  },
  {
   "cell_type": "code",
   "execution_count": 6,
   "metadata": {
    "collapsed": false,
    "jupyter": {
     "outputs_hidden": false
    },
    "pycharm": {
     "name": "#%%\n"
    }
   },
   "outputs": [],
   "source": [
    "train_sentences = add_char_information(train_sentences)\n",
    "val_sentences = add_char_information(val_sentences)\n",
    "test_sentences = add_char_information(test_sentences)\n",
    "all_sentences = train_sentences + val_sentences + test_sentences"
   ]
  },
  {
   "cell_type": "code",
   "execution_count": 7,
   "metadata": {
    "collapsed": false,
    "jupyter": {
     "outputs_hidden": false
    },
    "pycharm": {
     "name": "#%%\n"
    }
   },
   "outputs": [
    {
     "data": {
      "text/plain": [
       "[['EU', ['E', 'U'], 'B-ORG\\n'],\n",
       " ['rejects', ['r', 'e', 'j', 'e', 'c', 't', 's'], 'O\\n'],\n",
       " ['German', ['G', 'e', 'r', 'm', 'a', 'n'], 'B-MISC\\n'],\n",
       " ['call', ['c', 'a', 'l', 'l'], 'O\\n'],\n",
       " ['to', ['t', 'o'], 'O\\n'],\n",
       " ['boycott', ['b', 'o', 'y', 'c', 'o', 't', 't'], 'O\\n'],\n",
       " ['British', ['B', 'r', 'i', 't', 'i', 's', 'h'], 'B-MISC\\n'],\n",
       " ['lamb', ['l', 'a', 'm', 'b'], 'O\\n'],\n",
       " ['.', ['.'], 'O\\n']]"
      ]
     },
     "execution_count": 7,
     "metadata": {},
     "output_type": "execute_result"
    }
   ],
   "source": [
    "train_sentences[0]"
   ]
  },
  {
   "cell_type": "markdown",
   "metadata": {
    "pycharm": {
     "name": "#%% md\n"
    }
   },
   "source": [
    "### Visualize"
   ]
  },
  {
   "cell_type": "markdown",
   "metadata": {
    "pycharm": {
     "name": "#%% md\n"
    }
   },
   "source": [
    "#### Sentence length"
   ]
  },
  {
   "cell_type": "code",
   "execution_count": 8,
   "metadata": {
    "collapsed": false,
    "jupyter": {
     "outputs_hidden": false
    },
    "pycharm": {
     "name": "#%%\n"
    }
   },
   "outputs": [
    {
     "data": {
      "image/png": "[encoded data removed]",
      "text/plain": [
       "<Figure size 1440x360 with 4 Axes>"
      ]
     },
     "metadata": {
      "needs_background": "light"
     },
     "output_type": "display_data"
    }
   ],
   "source": [
    "fig, axs = plt.subplots(1, 4, figsize=(20, 5))\n",
    "for ax, sentences_set in zip(\n",
    "    axs, [all_sentences, train_sentences, val_sentences, test_sentences]\n",
    "):\n",
    "    sentences_lens = [len(sentence) for sentence in sentences_set]\n",
    "    ax.hist(sentences_lens, bins=100)\n",
    "    ax.set_ylabel(\"Num sentences\")\n",
    "    ax.set_xlabel(\"Sentence length (# words)\");"
   ]
  },
  {
   "cell_type": "code",
   "execution_count": 9,
   "metadata": {},
   "outputs": [
    {
     "name": "stdout",
     "output_type": "stream",
     "text": [
      "124\n"
     ]
    }
   ],
   "source": [
    "max_sentence_len = max(sentences_lens)\n",
    "print(max_sentence_len)"
   ]
  },
  {
   "cell_type": "markdown",
   "metadata": {
    "pycharm": {
     "name": "#%% md\n"
    }
   },
   "source": [
    "#### Word length"
   ]
  },
  {
   "cell_type": "code",
   "execution_count": 10,
   "metadata": {
    "collapsed": false,
    "jupyter": {
     "outputs_hidden": false
    },
    "pycharm": {
     "name": "#%%\n"
    }
   },
   "outputs": [
    {
     "data": {
      "image/png": "[encoded data removed]",
      "text/plain": [
       "<Figure size 1440x360 with 4 Axes>"
      ]
     },
     "metadata": {
      "needs_background": "light"
     },
     "output_type": "display_data"
    }
   ],
   "source": [
    "fig, axs = plt.subplots(1, 4, figsize=(20, 5))\n",
    "for ax, sentences_set in zip(\n",
    "    axs, [all_sentences, train_sentences, val_sentences, test_sentences]\n",
    "):\n",
    "    word_lens = [\n",
    "        len(word[0]) for sentence in sentences_set for word in sentence\n",
    "    ]\n",
    "    ax.hist(word_lens, bins=100)\n",
    "    ax.set_ylabel(\"Num words\")\n",
    "    ax.set_xlabel(\"Words lengths (# characters)\");"
   ]
  },
  {
   "cell_type": "code",
   "execution_count": 11,
   "metadata": {},
   "outputs": [
    {
     "name": "stdout",
     "output_type": "stream",
     "text": [
      "37\n"
     ]
    }
   ],
   "source": [
    "max_word_len = max(word_lens)\n",
    "print(max_word_len)"
   ]
  },
  {
   "cell_type": "markdown",
   "metadata": {
    "pycharm": {
     "name": "#%% md\n"
    }
   },
   "source": [
    "### Prepare mappings and embeddings"
   ]
  },
  {
   "cell_type": "markdown",
   "metadata": {
    "pycharm": {
     "name": "#%% md\n"
    }
   },
   "source": [
    "#### Get classes and word corpus"
   ]
  },
  {
   "cell_type": "code",
   "execution_count": 12,
   "metadata": {
    "collapsed": false,
    "jupyter": {
     "outputs_hidden": false
    },
    "pycharm": {
     "name": "#%%\n"
    }
   },
   "outputs": [],
   "source": [
    "classes = set()\n",
    "words = {}\n",
    "\n",
    "for sentence in all_sentences:\n",
    "    for word, char, label in sentence:\n",
    "        classes.add(label)\n",
    "        words[word.lower()] = True"
   ]
  },
  {
   "cell_type": "code",
   "execution_count": 13,
   "metadata": {
    "collapsed": false,
    "jupyter": {
     "outputs_hidden": false
    },
    "pycharm": {
     "name": "#%%\n"
    }
   },
   "outputs": [
    {
     "name": "stdout",
     "output_type": "stream",
     "text": [
      "9 26869\n"
     ]
    }
   ],
   "source": [
    "print(len(classes), len(words))"
   ]
  },
  {
   "cell_type": "markdown",
   "metadata": {
    "pycharm": {
     "name": "#%% md\n"
    }
   },
   "source": [
    "#### Classes mapping"
   ]
  },
  {
   "cell_type": "code",
   "execution_count": 14,
   "metadata": {
    "collapsed": false,
    "jupyter": {
     "outputs_hidden": false
    },
    "pycharm": {
     "name": "#%%\n"
    }
   },
   "outputs": [
    {
     "name": "stdout",
     "output_type": "stream",
     "text": [
      "10\n",
      "{'PADDING_CLASS': 0, 'B-MISC\\n': 1, 'O\\n': 2, 'I-ORG\\n': 3, 'I-PER\\n': 4, 'I-MISC\\n': 5, 'B-PER\\n': 6, 'I-LOC\\n': 7, 'B-ORG\\n': 8, 'B-LOC\\n': 9}\n"
     ]
    }
   ],
   "source": [
    "# Create a mapping for the classes\n",
    "class2idx = {\"PADDING_CLASS\": 0}\n",
    "for label in classes:\n",
    "    class2idx[label] = len(class2idx)\n",
    "print(len(class2idx))\n",
    "print(class2idx)"
   ]
  },
  {
   "cell_type": "code",
   "execution_count": 15,
   "metadata": {
    "collapsed": false,
    "jupyter": {
     "outputs_hidden": false
    },
    "pycharm": {
     "name": "#%%\n"
    }
   },
   "outputs": [
    {
     "name": "stdout",
     "output_type": "stream",
     "text": [
      "{0: 'PADDING_CLASS', 1: 'B-MISC\\n', 2: 'O\\n', 3: 'I-ORG\\n', 4: 'I-PER\\n', 5: 'I-MISC\\n', 6: 'B-PER\\n', 7: 'I-LOC\\n', 8: 'B-ORG\\n', 9: 'B-LOC\\n'}\n"
     ]
    }
   ],
   "source": [
    "# Create reverse mapping for classes and store it\n",
    "idx2class = {v: k for k, v in class2idx.items()}\n",
    "np.save(\"models/idx2Label.npy\", idx2class)\n",
    "print(idx2class)"
   ]
  },
  {
   "cell_type": "markdown",
   "metadata": {
    "pycharm": {
     "name": "#%% md\n"
    }
   },
   "source": [
    "#### Cases mapping and embedding"
   ]
  },
  {
   "cell_type": "code",
   "execution_count": 16,
   "metadata": {
    "collapsed": false,
    "jupyter": {
     "outputs_hidden": false
    },
    "pycharm": {
     "name": "#%%\n"
    }
   },
   "outputs": [
    {
     "name": "stdout",
     "output_type": "stream",
     "text": [
      "8 (8, 8)\n",
      "{'PADDING_WORD': 0, 'numeric': 1, 'allLower': 2, 'allUpper': 3, 'initialUpper': 4, 'other': 5, 'mainly_numeric': 6, 'contains_digit': 7}\n",
      "[[1. 0. 0. 0. 0. 0. 0. 0.]\n",
      " [0. 1. 0. 0. 0. 0. 0. 0.]\n",
      " [0. 0. 1. 0. 0. 0. 0. 0.]\n",
      " [0. 0. 0. 1. 0. 0. 0. 0.]\n",
      " [0. 0. 0. 0. 1. 0. 0. 0.]\n",
      " [0. 0. 0. 0. 0. 1. 0. 0.]\n",
      " [0. 0. 0. 0. 0. 0. 1. 0.]\n",
      " [0. 0. 0. 0. 0. 0. 0. 1.]]\n"
     ]
    }
   ],
   "source": [
    "# Create a look-up table for the cases\n",
    "case2idx = {\n",
    "    \"PADDING_WORD\": 0,\n",
    "    \"numeric\": 1,\n",
    "    \"allLower\": 2,\n",
    "    \"allUpper\": 3,\n",
    "    \"initialUpper\": 4,\n",
    "    \"other\": 5,\n",
    "    \"mainly_numeric\": 6,\n",
    "    \"contains_digit\": 7,\n",
    "}\n",
    "case_embeddings = np.identity(len(case2idx), dtype=\"float32\")\n",
    "print(len(case2idx), case_embeddings.shape)\n",
    "print(case2idx)\n",
    "print(case_embeddings)"
   ]
  },
  {
   "cell_type": "markdown",
   "metadata": {
    "pycharm": {
     "name": "#%% md\n"
    }
   },
   "source": [
    "#### Word mapping and embeddings"
   ]
  },
  {
   "cell_type": "code",
   "execution_count": 17,
   "metadata": {},
   "outputs": [],
   "source": [
    "embeddings_size = 50\n",
    "vocabulary_embeddings = open(\n",
    "    f\"../embeddings/glove.6B.{embeddings_size}d.txt\", encoding=\"utf-8\"\n",
    ")"
   ]
  },
  {
   "cell_type": "code",
   "execution_count": 18,
   "metadata": {
    "collapsed": false,
    "jupyter": {
     "outputs_hidden": false
    },
    "pycharm": {
     "name": "#%%\n"
    }
   },
   "outputs": [
    {
     "name": "stdout",
     "output_type": "stream",
     "text": [
      "22949 (22949, 50)\n"
     ]
    }
   ],
   "source": [
    "# Get word embedding\n",
    "word2idx = {}\n",
    "word_embeddings = []\n",
    "\n",
    "# Zero verctor for padding words\n",
    "word2idx[\"PADDING_WORD\"] = len(word2idx)\n",
    "vector = np.zeros(embeddings_size)  # Zero vector vor 'PADDING' word\n",
    "word_embeddings.append(vector)\n",
    "\n",
    "# Random vector for uknown words\n",
    "word2idx[\"UNKNOWN_WORD\"] = len(word2idx)\n",
    "vector = np.random.uniform(-0.25, 0.25, embeddings_size)\n",
    "word_embeddings.append(vector)\n",
    "\n",
    "for line in vocabulary_embeddings:\n",
    "    split = line.strip().split(\" \")\n",
    "    word = split[0]\n",
    "    embedding = split[1:]\n",
    "\n",
    "    if word.lower() in words:\n",
    "        vector = np.array([float(num) for num in embedding])\n",
    "        word_embeddings.append(vector)\n",
    "        word2idx[word] = len(word2idx)\n",
    "\n",
    "word_embeddings = np.array(word_embeddings)\n",
    "\n",
    "print(len(word2idx), word_embeddings.shape)"
   ]
  },
  {
   "cell_type": "code",
   "execution_count": 19,
   "metadata": {
    "collapsed": false,
    "jupyter": {
     "outputs_hidden": false
    },
    "pycharm": {
     "name": "#%%\n"
    }
   },
   "outputs": [],
   "source": [
    "# Store word embedding indices\n",
    "np.save(\"models/word2idx.npy\", word2idx)"
   ]
  },
  {
   "cell_type": "markdown",
   "metadata": {
    "pycharm": {
     "name": "#%% md\n"
    }
   },
   "source": [
    "#### Character mapping and embedding"
   ]
  },
  {
   "cell_type": "code",
   "execution_count": 20,
   "metadata": {},
   "outputs": [],
   "source": [
    "chars = set()\n",
    "for sentence in all_sentences:\n",
    "    for word in sentence:\n",
    "        for char in word[0]:\n",
    "            chars.add(char)"
   ]
  },
  {
   "cell_type": "code",
   "execution_count": 21,
   "metadata": {},
   "outputs": [
    {
     "name": "stdout",
     "output_type": "stream",
     "text": [
      "85\n",
      "93\n"
     ]
    }
   ],
   "source": [
    "print(len(chars))\n",
    "all_chars = \" 0123456789abcdefghijklmnopqrstuvwxyzABCDEFGHIJKLMNOPQRSTUVWXYZ.,-_()[]{}!?:;#'\\\"/\\\\%$`&=*+@^~|\"\n",
    "print(len(all_chars))"
   ]
  },
  {
   "cell_type": "code",
   "execution_count": 22,
   "metadata": {
    "collapsed": false,
    "jupyter": {
     "outputs_hidden": false
    },
    "pycharm": {
     "name": "#%%\n"
    }
   },
   "outputs": [
    {
     "name": "stdout",
     "output_type": "stream",
     "text": [
      "95\n"
     ]
    }
   ],
   "source": [
    "# Character embedding\n",
    "char2idx = {\"PADDING_CHAR\": 0, \"UNKNOWN_CHAR\": 1}\n",
    "for c in all_chars:\n",
    "    char2idx[c] = len(char2idx)\n",
    "print(len(char2idx))"
   ]
  },
  {
   "cell_type": "markdown",
   "metadata": {
    "pycharm": {
     "name": "#%% md\n"
    }
   },
   "source": [
    "### Train, val test data splits"
   ]
  },
  {
   "cell_type": "code",
   "execution_count": 23,
   "metadata": {},
   "outputs": [
    {
     "name": "stdout",
     "output_type": "stream",
     "text": [
      "124 37\n"
     ]
    }
   ],
   "source": [
    "print(max_sentence_len, max_word_len)"
   ]
  },
  {
   "cell_type": "code",
   "execution_count": 24,
   "metadata": {
    "collapsed": false,
    "jupyter": {
     "outputs_hidden": false
    },
    "pycharm": {
     "name": "#%%\n"
    }
   },
   "outputs": [
    {
     "name": "stdout",
     "output_type": "stream",
     "text": [
      "num train sentences: 14041\n",
      "num val sentences: 3250\n",
      "num test sentences: 3453\n"
     ]
    }
   ],
   "source": [
    "train_set = padding(\n",
    "    create_matrices(train_sentences, word2idx, class2idx, case2idx, char2idx),\n",
    "    max_sentence_len,\n",
    "    max_word_len,\n",
    "    word2idx,\n",
    "    case2idx,\n",
    "    char2idx,\n",
    "    class2idx,\n",
    ")\n",
    "val_set = padding(\n",
    "    create_matrices(val_sentences, word2idx, class2idx, case2idx, char2idx),\n",
    "    max_sentence_len,\n",
    "    max_word_len,\n",
    "    word2idx,\n",
    "    case2idx,\n",
    "    char2idx,\n",
    "    class2idx,\n",
    ")\n",
    "test_set = padding(\n",
    "    create_matrices(test_sentences, word2idx, class2idx, case2idx, char2idx),\n",
    "    max_sentence_len,\n",
    "    max_word_len,\n",
    "    word2idx,\n",
    "    case2idx,\n",
    "    char2idx,\n",
    "    class2idx,\n",
    ")\n",
    "print(f\"num train sentences: {len(train_set)}\")\n",
    "print(f\"num val sentences: {len(val_set)}\")\n",
    "print(f\"num test sentences: {len(test_set)}\")"
   ]
  },
  {
   "cell_type": "code",
   "execution_count": 25,
   "metadata": {
    "collapsed": false,
    "jupyter": {
     "outputs_hidden": false
    },
    "pycharm": {
     "name": "#%%\n"
    }
   },
   "outputs": [
    {
     "data": {
      "text/plain": [
       "[array([ 641, 6732,  512,  578,    6, 4940,  295, 8353,    4,    0,    0,\n",
       "           0,    0,    0,    0,    0,    0,    0,    0,    0,    0,    0,\n",
       "           0,    0,    0,    0,    0,    0,    0,    0,    0,    0,    0,\n",
       "           0,    0,    0,    0,    0,    0,    0,    0,    0,    0,    0,\n",
       "           0,    0,    0,    0,    0,    0,    0,    0,    0,    0,    0,\n",
       "           0,    0,    0,    0,    0,    0,    0,    0,    0,    0,    0,\n",
       "           0,    0,    0,    0,    0,    0,    0,    0,    0,    0,    0,\n",
       "           0,    0,    0,    0,    0,    0,    0,    0,    0,    0,    0,\n",
       "           0,    0,    0,    0,    0,    0,    0,    0,    0,    0,    0,\n",
       "           0,    0,    0,    0,    0,    0,    0,    0,    0,    0,    0,\n",
       "           0,    0,    0,    0,    0,    0,    0,    0,    0,    0,    0,\n",
       "           0,    0,    0], dtype=int32),\n",
       " array([3, 2, 4, 2, 2, 2, 4, 2, 5, 0, 0, 0, 0, 0, 0, 0, 0, 0, 0, 0, 0, 0,\n",
       "        0, 0, 0, 0, 0, 0, 0, 0, 0, 0, 0, 0, 0, 0, 0, 0, 0, 0, 0, 0, 0, 0,\n",
       "        0, 0, 0, 0, 0, 0, 0, 0, 0, 0, 0, 0, 0, 0, 0, 0, 0, 0, 0, 0, 0, 0,\n",
       "        0, 0, 0, 0, 0, 0, 0, 0, 0, 0, 0, 0, 0, 0, 0, 0, 0, 0, 0, 0, 0, 0,\n",
       "        0, 0, 0, 0, 0, 0, 0, 0, 0, 0, 0, 0, 0, 0, 0, 0, 0, 0, 0, 0, 0, 0,\n",
       "        0, 0, 0, 0, 0, 0, 0, 0, 0, 0, 0, 0, 0, 0], dtype=int32),\n",
       " array([[43, 59,  0, ...,  0,  0,  0],\n",
       "        [30, 17, 22, ...,  0,  0,  0],\n",
       "        [45, 17, 30, ...,  0,  0,  0],\n",
       "        ...,\n",
       "        [ 0,  0,  0, ...,  0,  0,  0],\n",
       "        [ 0,  0,  0, ...,  0,  0,  0],\n",
       "        [ 0,  0,  0, ...,  0,  0,  0]]),\n",
       " array([8, 2, 1, 2, 2, 2, 1, 2, 2, 0, 0, 0, 0, 0, 0, 0, 0, 0, 0, 0, 0, 0,\n",
       "        0, 0, 0, 0, 0, 0, 0, 0, 0, 0, 0, 0, 0, 0, 0, 0, 0, 0, 0, 0, 0, 0,\n",
       "        0, 0, 0, 0, 0, 0, 0, 0, 0, 0, 0, 0, 0, 0, 0, 0, 0, 0, 0, 0, 0, 0,\n",
       "        0, 0, 0, 0, 0, 0, 0, 0, 0, 0, 0, 0, 0, 0, 0, 0, 0, 0, 0, 0, 0, 0,\n",
       "        0, 0, 0, 0, 0, 0, 0, 0, 0, 0, 0, 0, 0, 0, 0, 0, 0, 0, 0, 0, 0, 0,\n",
       "        0, 0, 0, 0, 0, 0, 0, 0, 0, 0, 0, 0, 0, 0], dtype=int32)]"
      ]
     },
     "execution_count": 25,
     "metadata": {},
     "output_type": "execute_result"
    }
   ],
   "source": [
    "train_set[0]  # [words_idxs, word_case_idxs, word_char_idx, word_class_idx]"
   ]
  },
  {
   "cell_type": "code",
   "execution_count": 26,
   "metadata": {
    "collapsed": false,
    "jupyter": {
     "outputs_hidden": false
    },
    "pycharm": {
     "name": "#%%\n"
    }
   },
   "outputs": [
    {
     "name": "stdout",
     "output_type": "stream",
     "text": [
      "Raw data of train sentence 1000:\n",
      "[['Australian', ['A', 'u', 's', 't', 'r', 'a', 'l', 'i', 'a', 'n'], 'B-MISC\\n'], ['coach', ['c', 'o', 'a', 'c', 'h'], 'O\\n'], ['Geoff', ['G', 'e', 'o', 'f', 'f'], 'B-PER\\n'], ['Marsh', ['M', 'a', 'r', 's', 'h'], 'I-PER\\n'], ['said', ['s', 'a', 'i', 'd'], 'O\\n'], ['he', ['h', 'e'], 'O\\n'], ['was', ['w', 'a', 's'], 'O\\n'], ['impressed', ['i', 'm', 'p', 'r', 'e', 's', 's', 'e', 'd'], 'O\\n'], ['with', ['w', 'i', 't', 'h'], 'O\\n'], ['the', ['t', 'h', 'e'], 'O\\n'], ['competitiveness', ['c', 'o', 'm', 'p', 'e', 't', 'i', 't', 'i', 'v', 'e', 'n', 'e', 's', 's'], 'O\\n'], ['of', ['o', 'f'], 'O\\n'], ['the', ['t', 'h', 'e'], 'O\\n'], ['opposition', ['o', 'p', 'p', 'o', 's', 'i', 't', 'i', 'o', 'n'], 'O\\n'], ['.', ['.'], 'O\\n']]\n",
      "Sentence has 15 words\n",
      "word embedding idxs: 124 [ 797  609 9081 7949   18   20   17 5589   19    2 8185    5    2  575\n",
      "    4    0    0    0    0    0    0    0    0    0    0    0    0    0\n",
      "    0    0    0    0    0    0    0    0    0    0    0    0    0    0\n",
      "    0    0    0    0    0    0    0    0    0    0    0    0    0    0\n",
      "    0    0    0    0    0    0    0    0    0    0    0    0    0    0\n",
      "    0    0    0    0    0    0    0    0    0    0    0    0    0    0\n",
      "    0    0    0    0    0    0    0    0    0    0    0    0    0    0\n",
      "    0    0    0    0    0    0    0    0    0    0    0    0    0    0\n",
      "    0    0    0    0    0    0    0    0    0    0    0    0]\n",
      "word case embedding idxs: 124 [4 2 4 4 2 2 2 2 2 2 2 2 2 2 5 0 0 0 0 0 0 0 0 0 0 0 0 0 0 0 0 0 0 0 0 0 0\n",
      " 0 0 0 0 0 0 0 0 0 0 0 0 0 0 0 0 0 0 0 0 0 0 0 0 0 0 0 0 0 0 0 0 0 0 0 0 0\n",
      " 0 0 0 0 0 0 0 0 0 0 0 0 0 0 0 0 0 0 0 0 0 0 0 0 0 0 0 0 0 0 0 0 0 0 0 0 0\n",
      " 0 0 0 0 0 0 0 0 0 0 0 0 0]\n",
      "word char embedding idxs: (124, 37)\n",
      "word class embedding idxs: 124 [1 2 6 4 2 2 2 2 2 2 2 2 2 2 2 0 0 0 0 0 0 0 0 0 0 0 0 0 0 0 0 0 0 0 0 0 0\n",
      " 0 0 0 0 0 0 0 0 0 0 0 0 0 0 0 0 0 0 0 0 0 0 0 0 0 0 0 0 0 0 0 0 0 0 0 0 0\n",
      " 0 0 0 0 0 0 0 0 0 0 0 0 0 0 0 0 0 0 0 0 0 0 0 0 0 0 0 0 0 0 0 0 0 0 0 0 0\n",
      " 0 0 0 0 0 0 0 0 0 0 0 0 0]\n"
     ]
    }
   ],
   "source": [
    "sentence_idx = 1000\n",
    "print(f\"Raw data of train sentence {sentence_idx}:\")\n",
    "print(f\"{train_sentences[sentence_idx]}\")\n",
    "print(f\"Sentence has {len(train_sentences[sentence_idx])} words\")\n",
    "print(\n",
    "    \"word embedding idxs:\",\n",
    "    len(train_set[sentence_idx][0]),\n",
    "    train_set[sentence_idx][0],\n",
    ")\n",
    "print(\n",
    "    \"word case embedding idxs:\",\n",
    "    len(train_set[sentence_idx][1]),\n",
    "    train_set[sentence_idx][1],\n",
    ")\n",
    "print(\"word char embedding idxs:\", train_set[sentence_idx][2].shape)\n",
    "print(\n",
    "    \"word class embedding idxs:\",\n",
    "    len(train_set[sentence_idx][3]),\n",
    "    train_set[sentence_idx][3],\n",
    ")"
   ]
  },
  {
   "cell_type": "markdown",
   "metadata": {
    "pycharm": {
     "name": "#%% md\n"
    }
   },
   "source": [
    "### Create training arrays"
   ]
  },
  {
   "cell_type": "code",
   "execution_count": 27,
   "metadata": {},
   "outputs": [],
   "source": [
    "def plot_classes_counts(classes_array, class_weight=None):\n",
    "    classes, counts = np.unique(classes_array, return_counts = True)\n",
    "    total = np.sum(counts)\n",
    "    num_classes = len(classes)\n",
    "    classes_counts = {class_: count for class_, count in zip(classes, counts)}\n",
    "    plt.bar(classes, counts)\n",
    "    print(classes_counts)\n",
    "    if class_weight is None:\n",
    "        class_weight = {class_: (1 / count) * (total / num_classes) for class_, count in zip(classes, counts)}\n",
    "    classes_weights = np.vectorize(class_weight.get)(classes_array)\n",
    "    print(class_weight)\n",
    "    return np.squeeze(classes_weights), class_weight # shape for keras when sampel_weight_complie = 'temporal' must be 2D see below when model.compile() call"
   ]
  },
  {
   "cell_type": "code",
   "execution_count": 28,
   "metadata": {},
   "outputs": [
    {
     "name": "stdout",
     "output_type": "stream",
     "text": [
      "(14041, 124)\n",
      "(14041, 124)\n",
      "(14041, 124, 37)\n",
      "(14041, 124, 1)\n",
      "{0: 1537463, 1: 3438, 2: 169578, 3: 3704, 4: 4528, 5: 1155, 6: 6600, 7: 1157, 8: 6321, 9: 7140}\n",
      "{0: 0.11324396099288243, 1: 50.642350203606746, 2: 1.0267157296347402, 3: 47.00550755939525, 4: 38.45150176678445, 5: 150.74320346320346, 6: 26.380060606060606, 7: 150.48262748487468, 8: 27.544439171017242, 9: 24.384929971988793}\n",
      "{'PADDING_CLASS': 0, 'B-MISC\\n': 1, 'O\\n': 2, 'I-ORG\\n': 3, 'I-PER\\n': 4, 'I-MISC\\n': 5, 'B-PER\\n': 6, 'I-LOC\\n': 7, 'B-ORG\\n': 8, 'B-LOC\\n': 9}\n"
     ]
    },
    {
     "data": {
      "image/png": "[encoded data removed]",
      "text/plain": [
       "<Figure size 432x288 with 1 Axes>"
      ]
     },
     "metadata": {
      "needs_background": "light"
     },
     "output_type": "display_data"
    }
   ],
   "source": [
    "train_words = np.asarray([sentence[0] for sentence in train_set])\n",
    "train_casing = np.asarray([sentence[1] for sentence in train_set])\n",
    "train_chars = np.asarray([sentence[2] for sentence in train_set])\n",
    "train_classes = np.expand_dims(np.asarray([sentence[3] for sentence in train_set]), -1)\n",
    "print(train_words.shape)\n",
    "print(train_casing.shape)\n",
    "print(train_chars.shape)\n",
    "print(train_classes.shape)\n",
    "train_sample_weights, class_weight = plot_classes_counts(train_classes)\n",
    "print(class2idx)"
   ]
  },
  {
   "cell_type": "markdown",
   "metadata": {},
   "source": [
    "> **NOTE**: The dataset is already unbalance due to the class O (\"other\")\n",
    "Padding makes the dataset be even more unbalance.\n",
    "We compute sample_weights to balance the loss so that PADDING and OTHER classes get less weight while training. "
   ]
  },
  {
   "cell_type": "markdown",
   "metadata": {},
   "source": [
    "> **NOTE**: At evaluation time we also pass the val_sample_weight and test_sample_weight, however, note that the weights must be the ones of the training, so that the losses are comparables. "
   ]
  },
  {
   "cell_type": "markdown",
   "metadata": {},
   "source": [
    "> **NOTE**: An alternatieve is using the [padding and masking](https://www.tensorflow.org/guide/keras/masking_and_padding) options ot tensorflow/keras to tell the lstm layers to ignore certain time steps"
   ]
  },
  {
   "cell_type": "code",
   "execution_count": 29,
   "metadata": {},
   "outputs": [
    {
     "name": "stdout",
     "output_type": "stream",
     "text": [
      "(3250, 124)\n",
      "(3250, 124)\n",
      "(3250, 124, 37)\n",
      "(3250, 124, 1)\n",
      "{0: 351638, 1: 922, 2: 42759, 3: 751, 4: 1307, 5: 346, 6: 1842, 7: 257, 8: 1341, 9: 1837}\n",
      "{0: 0.11460649872880634, 1: 43.70932754880694, 2: 0.9424916391870717, 3: 53.66178428761651, 4: 30.83397092578424, 5: 116.47398843930635, 6: 21.878393051031487, 7: 156.80933852140078, 8: 30.052199850857566, 9: 21.937942297223735}\n"
     ]
    },
    {
     "data": {
      "image/png": "[encoded data removed]",
      "text/plain": [
       "<Figure size 432x288 with 1 Axes>"
      ]
     },
     "metadata": {
      "needs_background": "light"
     },
     "output_type": "display_data"
    }
   ],
   "source": [
    "val_words = np.asarray([sentence[0] for sentence in val_set])\n",
    "val_casing = np.asarray([sentence[1] for sentence in val_set])\n",
    "val_chars = np.asarray([sentence[2] for sentence in val_set])\n",
    "val_classes = np.expand_dims(np.asarray([sentence[3] for sentence in val_set]), -1)\n",
    "print(val_words.shape)\n",
    "print(val_casing.shape)\n",
    "print(val_chars.shape)\n",
    "print(val_classes.shape)\n",
    "val_sample_weights, class_weight = plot_classes_counts(val_classes)"
   ]
  },
  {
   "cell_type": "code",
   "execution_count": 30,
   "metadata": {},
   "outputs": [
    {
     "name": "stdout",
     "output_type": "stream",
     "text": [
      "(3453, 124)\n",
      "(3453, 124)\n",
      "(3453, 124, 37)\n",
      "(3453, 124, 1)\n",
      "{0: 381737, 1: 702, 2: 38323, 3: 835, 4: 1156, 5: 216, 6: 1617, 7: 257, 8: 1661, 9: 1668}\n",
      "{0: 0.11216413394562225, 1: 60.99316239316239, 2: 1.1172716123476762, 3: 51.27808383233533, 4: 37.03910034602076, 5: 198.22777777777776, 6: 26.479406307977737, 7: 166.60389105058366, 8: 25.77796508127634, 9: 25.669784172661867}\n"
     ]
    },
    {
     "data": {
      "image/png": "[encoded data removed]",
      "text/plain": [
       "<Figure size 432x288 with 1 Axes>"
      ]
     },
     "metadata": {
      "needs_background": "light"
     },
     "output_type": "display_data"
    }
   ],
   "source": [
    "test_words = np.asarray([sentence[0] for sentence in test_set])\n",
    "test_casing = np.asarray([sentence[1] for sentence in test_set])\n",
    "test_chars = np.asarray([sentence[2] for sentence in test_set])\n",
    "test_classes = np.expand_dims(np.asarray([sentence[3] for sentence in test_set]), -1)\n",
    "print(test_words.shape)\n",
    "print(test_casing.shape)\n",
    "print(test_chars.shape)\n",
    "print(test_classes.shape)\n",
    "test_sample_weights, class_weight = plot_classes_counts(test_classes)"
   ]
  },
  {
   "cell_type": "markdown",
   "metadata": {
    "pycharm": {
     "name": "#%% md\n"
    }
   },
   "source": [
    "### Define model"
   ]
  },
  {
   "cell_type": "code",
   "execution_count": 31,
   "metadata": {
    "collapsed": false,
    "jupyter": {
     "outputs_hidden": false
    },
    "pycharm": {
     "name": "#%%\n"
    }
   },
   "outputs": [
    {
     "name": "stdout",
     "output_type": "stream",
     "text": [
      "Model: \"model_1\"\n",
      "__________________________________________________________________________________________________\n",
      "Layer (type)                    Output Shape         Param #     Connected to                     \n",
      "==================================================================================================\n",
      "char_input (InputLayer)         (None, None, 37)     0                                            \n",
      "__________________________________________________________________________________________________\n",
      "char_embedding (TimeDistributed (None, None, 37, 30) 2850        char_input[0][0]                 \n",
      "__________________________________________________________________________________________________\n",
      "dropout_1 (Dropout)             (None, None, 37, 30) 0           char_embedding[0][0]             \n",
      "__________________________________________________________________________________________________\n",
      "time_distributed_1 (TimeDistrib (None, None, 37, 30) 2730        dropout_1[0][0]                  \n",
      "__________________________________________________________________________________________________\n",
      "time_distributed_2 (TimeDistrib (None, None, 1, 30)  0           time_distributed_1[0][0]         \n",
      "__________________________________________________________________________________________________\n",
      "words_input (InputLayer)        (None, None)         0                                            \n",
      "__________________________________________________________________________________________________\n",
      "casing_input (InputLayer)       (None, None)         0                                            \n",
      "__________________________________________________________________________________________________\n",
      "time_distributed_3 (TimeDistrib (None, None, 30)     0           time_distributed_2[0][0]         \n",
      "__________________________________________________________________________________________________\n",
      "embedding_1 (Embedding)         (None, None, 50)     1147450     words_input[0][0]                \n",
      "__________________________________________________________________________________________________\n",
      "embedding_2 (Embedding)         (None, None, 8)      64          casing_input[0][0]               \n",
      "__________________________________________________________________________________________________\n",
      "dropout_2 (Dropout)             (None, None, 30)     0           time_distributed_3[0][0]         \n",
      "__________________________________________________________________________________________________\n",
      "concatenate_1 (Concatenate)     (None, None, 88)     0           embedding_1[0][0]                \n",
      "                                                                 embedding_2[0][0]                \n",
      "                                                                 dropout_2[0][0]                  \n",
      "__________________________________________________________________________________________________\n",
      "bidirectional_1 (Bidirectional) (None, None, 400)    462400      concatenate_1[0][0]              \n",
      "__________________________________________________________________________________________________\n",
      "time_distributed_4 (TimeDistrib (None, None, 10)     4010        bidirectional_1[0][0]            \n",
      "==================================================================================================\n",
      "Total params: 1,619,504\n",
      "Trainable params: 471,990\n",
      "Non-trainable params: 1,147,514\n",
      "__________________________________________________________________________________________________\n"
     ]
    }
   ],
   "source": [
    "# Word features come from glove.6B embeddings\n",
    "words_input = Input(\n",
    "    shape=(None,), dtype=\"int32\", name=\"words_input\"\n",
    ")  # None indicates a variables input (sentence length is variable)\n",
    "words = Embedding(\n",
    "    input_dim=word_embeddings.shape[0],\n",
    "    output_dim=word_embeddings.shape[1],\n",
    "    weights=[word_embeddings],\n",
    "    trainable=False,\n",
    ")(words_input)\n",
    "\n",
    "# Casing features\n",
    "casing_input = Input(\n",
    "    shape=(None,), dtype=\"int32\", name=\"casing_input\"\n",
    ")  # None indicates a variables input (sentence length is variable)\n",
    "casing = Embedding(\n",
    "    input_dim=case_embeddings.shape[0],\n",
    "    output_dim=case_embeddings.shape[1],\n",
    "    weights=[case_embeddings],\n",
    "    trainable=False,\n",
    ")(casing_input)\n",
    "\n",
    "# Character features learned with a 1D CNN\n",
    "character_input = Input(\n",
    "    shape=(\n",
    "        None,\n",
    "        max_word_len,\n",
    "    ),\n",
    "    name=\"char_input\",\n",
    ")\n",
    "embed_char_out = TimeDistributed(\n",
    "    Embedding(\n",
    "        input_dim=len(char2idx),\n",
    "        output_dim=30,\n",
    "        embeddings_initializer=RandomUniform(minval=-0.5, maxval=0.5),\n",
    "    ),\n",
    "    name=\"char_embedding\",\n",
    ")(character_input)\n",
    "dropout = Dropout(0.5)(embed_char_out)\n",
    "conv1d_out = TimeDistributed(\n",
    "    Conv1D(\n",
    "        kernel_size=3, filters=30, padding=\"same\", activation=\"tanh\", strides=1\n",
    "    )\n",
    ")(dropout)\n",
    "maxpool_out = TimeDistributed(MaxPooling1D(max_word_len))(conv1d_out)\n",
    "char = TimeDistributed(Flatten())(maxpool_out)\n",
    "char = Dropout(0.5)(char)\n",
    "\n",
    "# Concatenate features\n",
    "output = concatenate([words, casing, char])\n",
    "\n",
    "# Bidirectional LSTM\n",
    "output = Bidirectional(\n",
    "    LSTM(200, return_sequences=True, dropout=0.50, recurrent_dropout=0.25)\n",
    ")(output)\n",
    "\n",
    "# Same fully connected for each word in the sequence\n",
    "output = TimeDistributed(Dense(len(class2idx), activation=\"softmax\"))(output)\n",
    "\n",
    "# Define model input and output\n",
    "model = Model(\n",
    "    inputs=[words_input, casing_input, character_input], outputs=[output]\n",
    ")\n",
    "# Uncomment to train with sample weights\n",
    "# model.compile(loss=\"sparse_categorical_crossentropy\", optimizer=\"nadam\", metrics=['accuracy'], sample_weight_mode='temporal')\n",
    "model.compile(loss=\"sparse_categorical_crossentropy\", optimizer=\"nadam\", metrics=['accuracy'])\n",
    "model.summary()"
   ]
  },
  {
   "cell_type": "markdown",
   "metadata": {
    "pycharm": {
     "name": "#%% md\n"
    }
   },
   "source": [
    "### Training loop"
   ]
  },
  {
   "cell_type": "code",
   "execution_count": 32,
   "metadata": {
    "collapsed": false,
    "jupyter": {
     "outputs_hidden": false
    },
    "pycharm": {
     "name": "#%%\n"
    }
   },
   "outputs": [],
   "source": [
    "# epochs = 5\n",
    "# for epoch in range(epochs):\n",
    "#     print(\"Epoch %d/%d\" % (epoch, epochs))\n",
    "#     a = Progbar(len(train_num_sentences_in_batch))\n",
    "#     for i, batch in enumerate(\n",
    "#         iterate_minibatches(train_batches, train_num_sentences_in_batch)\n",
    "#     ):\n",
    "#         labels, words, casing, char = batch\n",
    "#         model.train_on_batch([words, casing, char], labels)\n",
    "#         a.update(i)\n",
    "#     a.update(i + 1)\n",
    "#     print(\" \")"
   ]
  },
  {
   "cell_type": "code",
   "execution_count": 33,
   "metadata": {},
   "outputs": [],
   "source": [
    "MODEL_CHECKPOINT_FILE = 'models/model.h5'\n",
    "checkpointer = ModelCheckpoint(filepath=MODEL_CHECKPOINT_FILE,\n",
    "                               monitor='val_loss',\n",
    "                               save_best_only=True,\n",
    "                               verbose=1)"
   ]
  },
  {
   "cell_type": "code",
   "execution_count": 34,
   "metadata": {},
   "outputs": [],
   "source": [
    "filename='models/history.csv'\n",
    "history_logger=CSVLogger(filename, separator=\",\", append=False)"
   ]
  },
  {
   "cell_type": "code",
   "execution_count": 68,
   "metadata": {},
   "outputs": [
    {
     "name": "stdout",
     "output_type": "stream",
     "text": [
      "Train on 1000 samples, validate on 100 samples\n",
      "Epoch 1/10\n",
      "1000/1000 [==============================] - 27s 27ms/step - loss: 0.0252 - accuracy: 0.9930 - val_loss: 0.0191 - val_accuracy: 0.9949\n",
      "\n",
      "Epoch 00001: val_loss improved from 0.02213 to 0.01907, saving model to models/model.h5\n",
      "Epoch 2/10\n",
      "1000/1000 [==============================] - 27s 27ms/step - loss: 0.0213 - accuracy: 0.9937 - val_loss: 0.0183 - val_accuracy: 0.9946\n",
      "\n",
      "Epoch 00002: val_loss improved from 0.01907 to 0.01833, saving model to models/model.h5\n",
      "Epoch 3/10\n",
      "1000/1000 [==============================] - 29s 29ms/step - loss: 0.0190 - accuracy: 0.9943 - val_loss: 0.0160 - val_accuracy: 0.9952\n",
      "\n",
      "Epoch 00003: val_loss improved from 0.01833 to 0.01599, saving model to models/model.h5\n",
      "Epoch 4/10\n",
      "1000/1000 [==============================] - 27s 27ms/step - loss: 0.0178 - accuracy: 0.9947 - val_loss: 0.0158 - val_accuracy: 0.9951\n",
      "\n",
      "Epoch 00004: val_loss improved from 0.01599 to 0.01579, saving model to models/model.h5\n",
      "Epoch 5/10\n",
      "1000/1000 [==============================] - 27s 27ms/step - loss: 0.0161 - accuracy: 0.9952 - val_loss: 0.0161 - val_accuracy: 0.9945\n",
      "\n",
      "Epoch 00005: val_loss did not improve from 0.01579\n",
      "Epoch 6/10\n",
      "1000/1000 [==============================] - 28s 28ms/step - loss: 0.0156 - accuracy: 0.9951 - val_loss: 0.0158 - val_accuracy: 0.9945\n",
      "\n",
      "Epoch 00006: val_loss improved from 0.01579 to 0.01576, saving model to models/model.h5\n",
      "Epoch 7/10\n",
      "1000/1000 [==============================] - 28s 28ms/step - loss: 0.0144 - accuracy: 0.9957 - val_loss: 0.0155 - val_accuracy: 0.9944\n",
      "\n",
      "Epoch 00007: val_loss improved from 0.01576 to 0.01554, saving model to models/model.h5\n",
      "Epoch 8/10\n",
      "1000/1000 [==============================] - 28s 28ms/step - loss: 0.0135 - accuracy: 0.9960 - val_loss: 0.0140 - val_accuracy: 0.9952\n",
      "\n",
      "Epoch 00008: val_loss improved from 0.01554 to 0.01400, saving model to models/model.h5\n",
      "Epoch 9/10\n",
      "1000/1000 [==============================] - 28s 28ms/step - loss: 0.0127 - accuracy: 0.9960 - val_loss: 0.0131 - val_accuracy: 0.9956\n",
      "\n",
      "Epoch 00009: val_loss improved from 0.01400 to 0.01311, saving model to models/model.h5\n",
      "Epoch 10/10\n",
      "1000/1000 [==============================] - 30s 30ms/step - loss: 0.0117 - accuracy: 0.9965 - val_loss: 0.0138 - val_accuracy: 0.9952\n",
      "\n",
      "Epoch 00010: val_loss did not improve from 0.01311\n"
     ]
    }
   ],
   "source": [
    "num_training_samples = 1000\n",
    "num_val_samples = 100\n",
    "history = model.fit(\n",
    "    [train_words[:num_training_samples], train_casing[:num_training_samples], train_chars[:num_training_samples]],\n",
    "    train_classes[:num_training_samples],\n",
    "#     sample_weight = np.squeeze(train_sample_weights), # Uncomment to train with sample weights\n",
    "    batch_size=32, \n",
    "    epochs=10, \n",
    "    shuffle=True,\n",
    "    callbacks=[checkpointer, history_logger],\n",
    "    validation_data=([val_words[:num_val_samples], val_casing[:num_val_samples], val_chars[:num_val_samples]], val_classes[:num_val_samples]), \n",
    "    verbose=1)"
   ]
  },
  {
   "cell_type": "code",
   "execution_count": 70,
   "metadata": {},
   "outputs": [
    {
     "data": {
      "image/png": "[encoded data removed]",
      "text/plain": [
       "<Figure size 864x864 with 1 Axes>"
      ]
     },
     "metadata": {
      "needs_background": "light"
     },
     "output_type": "display_data"
    }
   ],
   "source": [
    "hist = pd.DataFrame(history.history)\n",
    "plt.figure(figsize=(12,12))\n",
    "plt.plot(hist[\"accuracy\"], label='training')\n",
    "plt.plot(hist[\"val_accuracy\"], label='validation')\n",
    "plt.legend()\n",
    "plt.show()"
   ]
  },
  {
   "cell_type": "markdown",
   "metadata": {},
   "source": [
    "### Evaluate"
   ]
  },
  {
   "cell_type": "code",
   "execution_count": 71,
   "metadata": {},
   "outputs": [],
   "source": [
    "model.load_weights(MODEL_CHECKPOINT_FILE)"
   ]
  },
  {
   "cell_type": "code",
   "execution_count": 72,
   "metadata": {},
   "outputs": [
    {
     "name": "stdout",
     "output_type": "stream",
     "text": [
      "3250/3250 [==============================] - 9s 3ms/step\n",
      "[0.014306718421670106, 0.9958833456039429]\n"
     ]
    }
   ],
   "source": [
    "results = model.evaluate(\n",
    "    [val_words, val_casing, val_chars],\n",
    "    val_classes,\n",
    "    batch_size=128,\n",
    "#     sample_weight=val_sample_weights\n",
    ")\n",
    "print(results)"
   ]
  },
  {
   "cell_type": "code",
   "execution_count": 73,
   "metadata": {},
   "outputs": [
    {
     "name": "stdout",
     "output_type": "stream",
     "text": [
      "3453/3453 [==============================] - 10s 3ms/step\n",
      "[0.01373108781932438, 0.9957984089851379]\n"
     ]
    }
   ],
   "source": [
    "results = model.evaluate(\n",
    "    [test_words, test_casing, test_chars],\n",
    "    test_classes,\n",
    "    batch_size=128,\n",
    "#     sample_weight=test_sample_weights\n",
    ")\n",
    "print(results)"
   ]
  },
  {
   "cell_type": "markdown",
   "metadata": {
    "pycharm": {
     "name": "#%% md\n"
    }
   },
   "source": [
    "### Predictions"
   ]
  },
  {
   "cell_type": "code",
   "execution_count": 75,
   "metadata": {},
   "outputs": [
    {
     "name": "stdout",
     "output_type": "stream",
     "text": [
      "(3250, 124, 10)\n"
     ]
    }
   ],
   "source": [
    "val_predictions = model.predict(\n",
    "    [val_words, val_casing, val_chars], \n",
    "    batch_size=128\n",
    ")\n",
    "print(val_predictions.shape)"
   ]
  },
  {
   "cell_type": "code",
   "execution_count": 76,
   "metadata": {},
   "outputs": [
    {
     "name": "stdout",
     "output_type": "stream",
     "text": [
      "(3453, 124, 10)\n"
     ]
    }
   ],
   "source": [
    "test_predictions = model.predict(\n",
    "    [test_words, test_casing, test_chars], \n",
    "    batch_size=128\n",
    ")\n",
    "print(test_predictions.shape)"
   ]
  },
  {
   "cell_type": "markdown",
   "metadata": {},
   "source": [
    "### Compute performance metrics without considering the padding tokers"
   ]
  },
  {
   "cell_type": "markdown",
   "metadata": {},
   "source": [
    "> **NOTE**: By ignoring the padding some metrics metrics are ill-defined becuase some prediction might still return that PADDING is the best class, while padding is not in the valid groundtruth classes"
   ]
  },
  {
   "cell_type": "code",
   "execution_count": 116,
   "metadata": {},
   "outputs": [],
   "source": [
    "def extract_valid_classes_and_predictions(classes, predictions, ignore_padding=False):\n",
    "    # NOTE: the valid_predictions can still contain predictions that are 0 = PADDING\n",
    "    # However this is not going to be in the valid classes. \n",
    "    valid_classes = []\n",
    "    valid_predictions = []\n",
    "    for sentence_predictions, sentence_classes in zip(predictions, classes):\n",
    "        for word_prediction, word_class in zip(sentence_predictions, sentence_classes):\n",
    "            if ignore_padding:\n",
    "                if word_class[0] != 0:\n",
    "                    valid_classes.append(word_class)\n",
    "                    valid_predictions.append(word_prediction)\n",
    "            else:\n",
    "                valid_classes.append(word_class)\n",
    "                valid_predictions.append(word_prediction)    \n",
    "    valid_clases = np.squeeze(np.asarray(valid_classes))\n",
    "    valid_predictions = np.asarray(valid_predictions)\n",
    "    valid_predicted_classes = np.argmax(valid_predictions, axis=1)\n",
    "    return valid_clases, valid_predictions, valid_predicted_classes"
   ]
  },
  {
   "cell_type": "code",
   "execution_count": 117,
   "metadata": {},
   "outputs": [],
   "source": [
    "from sklearn.metrics import accuracy_score, precision_score, recall_score, f1_score\n",
    "metrics = [accuracy_score, precision_score, recall_score, f1_score]"
   ]
  },
  {
   "cell_type": "code",
   "execution_count": 124,
   "metadata": {},
   "outputs": [
    {
     "name": "stdout",
     "output_type": "stream",
     "text": [
      "accuracy_score 0.9958833746898264\n",
      "precision_score 0.8540229458426614\n",
      "recall_score 0.8066449158416198\n",
      "f1_score 0.8261528383054678\n",
      "[0 1 2 3 4 5 6 7 8 9] [351642    977  42990    610   1350    226   1876    213   1243   1873]\n",
      "[0 1 2 3 4 5 6 7 8 9] [351638    922  42759    751   1307    346   1842    257   1341   1837]\n"
     ]
    }
   ],
   "source": [
    "valid_classes, valid_predictions, valid_predicted_classes = extract_valid_classes_and_predictions(val_classes, val_predictions, ignore_padding=False)  \n",
    "for metric in metrics:\n",
    "    if metric != accuracy_score:\n",
    "        out = metric(valid_classes, valid_predicted_classes, average='macro')\n",
    "    else:\n",
    "        out = metric(valid_classes, valid_predicted_classes)\n",
    "    print(metric.__name__, out)\n",
    "unique, count = np.unique(valid_predicted_classes, return_counts=True)\n",
    "print(unique, count)\n",
    "unique, count = np.unique(valid_classes, return_counts=True)\n",
    "print(unique, count)"
   ]
  },
  {
   "cell_type": "code",
   "execution_count": 125,
   "metadata": {},
   "outputs": [
    {
     "name": "stdout",
     "output_type": "stream",
     "text": [
      "accuracy_score 0.9676998559246135\n",
      "precision_score 0.7540240833632079\n",
      "recall_score 0.7066449158416198\n",
      "f1_score 0.7261534070689759\n",
      "[0 1 2 3 4 5 6 7 8 9] [    4   977 42990   610  1350   226  1876   213  1243  1873]\n",
      "[1 2 3 4 5 6 7 8 9] [  922 42759   751  1307   346  1842   257  1341  1837]\n"
     ]
    },
    {
     "name": "stderr",
     "output_type": "stream",
     "text": [
      "/home/ec2-user/anaconda3/envs/tensorflow2_p36/lib/python3.6/site-packages/sklearn/metrics/_classification.py:1245: UndefinedMetricWarning: Recall is ill-defined and being set to 0.0 in labels with no true samples. Use `zero_division` parameter to control this behavior.\n",
      "  _warn_prf(average, modifier, msg_start, len(result))\n"
     ]
    }
   ],
   "source": [
    "valid_classes, valid_predictions, valid_predicted_classes = extract_valid_classes_and_predictions(val_classes, val_predictions, ignore_padding=True)  \n",
    "for metric in metrics:\n",
    "    if metric != accuracy_score:\n",
    "        out = metric(valid_classes, valid_predicted_classes, average='macro')\n",
    "    else:\n",
    "        out = metric(valid_classes, valid_predicted_classes)\n",
    "    print(metric.__name__, out)\n",
    "unique, count = np.unique(valid_predicted_classes, return_counts=True)\n",
    "print(unique, count)\n",
    "unique, count = np.unique(valid_classes, return_counts=True)\n",
    "print(unique, count)"
   ]
  },
  {
   "cell_type": "code",
   "execution_count": null,
   "metadata": {},
   "outputs": [],
   "source": []
  }
 ],
 "metadata": {
  "kernelspec": {
   "display_name": "conda_tensorflow2_p36",
   "language": "python",
   "name": "conda_tensorflow2_p36"
  },
  "language_info": {
   "codemirror_mode": {
    "name": "ipython",
    "version": 3
   },
   "file_extension": ".py",
   "mimetype": "text/x-python",
   "name": "python",
   "nbconvert_exporter": "python",
   "pygments_lexer": "ipython3",
   "version": "3.6.13"
  }
 },
 "nbformat": 4,
 "nbformat_minor": 4
}
